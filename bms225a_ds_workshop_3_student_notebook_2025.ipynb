{
  "nbformat": 4,
  "nbformat_minor": 0,
  "metadata": {
    "colab": {
      "provenance": [],
      "toc_visible": true,
      "collapsed_sections": [
        "N2Qm2qKabSwM"
      ],
      "include_colab_link": true
    },
    "kernelspec": {
      "name": "python3",
      "display_name": "Python 3"
    },
    "language_info": {
      "name": "python"
    }
  },
  "cells": [
    {
      "cell_type": "markdown",
      "metadata": {
        "id": "view-in-github",
        "colab_type": "text"
      },
      "source": [
        "<a href=\"https://colab.research.google.com/github/ZimoZhang914/Zimo225a/blob/main/bms225a_ds_workshop_3_student_notebook_2025.ipynb\" target=\"_parent\"><img src=\"https://colab.research.google.com/assets/colab-badge.svg\" alt=\"Open In Colab\"/></a>"
      ]
    },
    {
      "cell_type": "markdown",
      "source": [
        "### Setup"
      ],
      "metadata": {
        "id": "N2Qm2qKabSwM"
      }
    },
    {
      "cell_type": "code",
      "source": [
        "# install scanpy with additional dependences\n",
        "# leiden for clustering, harmony for batch correction and skmisc which is needed for HVG selection\n",
        "!pip install --quiet 'scanpy[leiden,harmony,skmisc]'"
      ],
      "metadata": {
        "id": "RRm6sIQWYjqw",
        "outputId": "3dbd1298-c21b-43a3-a716-b72ffae80037",
        "colab": {
          "base_uri": "https://localhost:8080/"
        }
      },
      "execution_count": 2,
      "outputs": [
        {
          "output_type": "stream",
          "name": "stdout",
          "text": [
            "\u001b[2K   \u001b[90m━━━━━━━━━━━━━━━━━━━━━━━━━━━━━━━━━━━━━━━━\u001b[0m \u001b[32m169.3/169.3 kB\u001b[0m \u001b[31m4.3 MB/s\u001b[0m eta \u001b[36m0:00:00\u001b[0m\n",
            "\u001b[2K   \u001b[90m━━━━━━━━━━━━━━━━━━━━━━━━━━━━━━━━━━━━━━━━\u001b[0m \u001b[32m4.4/4.4 MB\u001b[0m \u001b[31m48.3 MB/s\u001b[0m eta \u001b[36m0:00:00\u001b[0m\n",
            "\u001b[2K   \u001b[90m━━━━━━━━━━━━━━━━━━━━━━━━━━━━━━━━━━━━━━━━\u001b[0m \u001b[32m2.0/2.0 MB\u001b[0m \u001b[31m78.5 MB/s\u001b[0m eta \u001b[36m0:00:00\u001b[0m\n",
            "\u001b[2K   \u001b[90m━━━━━━━━━━━━━━━━━━━━━━━━━━━━━━━━━━━━━━━━\u001b[0m \u001b[32m183.6/183.6 kB\u001b[0m \u001b[31m14.4 MB/s\u001b[0m eta \u001b[36m0:00:00\u001b[0m\n",
            "\u001b[2K   \u001b[90m━━━━━━━━━━━━━━━━━━━━━━━━━━━━━━━━━━━━━━━━\u001b[0m \u001b[32m2.1/2.1 MB\u001b[0m \u001b[31m80.2 MB/s\u001b[0m eta \u001b[36m0:00:00\u001b[0m\n",
            "\u001b[2K   \u001b[90m━━━━━━━━━━━━━━━━━━━━━━━━━━━━━━━━━━━━━━━━\u001b[0m \u001b[32m58.2/58.2 kB\u001b[0m \u001b[31m4.1 MB/s\u001b[0m eta \u001b[36m0:00:00\u001b[0m\n",
            "\u001b[2K   \u001b[90m━━━━━━━━━━━━━━━━━━━━━━━━━━━━━━━━━━━━━━━━\u001b[0m \u001b[32m276.4/276.4 kB\u001b[0m \u001b[31m22.0 MB/s\u001b[0m eta \u001b[36m0:00:00\u001b[0m\n",
            "\u001b[2K   \u001b[90m━━━━━━━━━━━━━━━━━━━━━━━━━━━━━━━━━━━━━━━━\u001b[0m \u001b[32m8.8/8.8 MB\u001b[0m \u001b[31m110.9 MB/s\u001b[0m eta \u001b[36m0:00:00\u001b[0m\n",
            "\u001b[2K   \u001b[90m━━━━━━━━━━━━━━━━━━━━━━━━━━━━━━━━━━━━━━━━\u001b[0m \u001b[32m78.5/78.5 kB\u001b[0m \u001b[31m6.6 MB/s\u001b[0m eta \u001b[36m0:00:00\u001b[0m\n",
            "\u001b[?25h"
          ]
        }
      ]
    },
    {
      "cell_type": "markdown",
      "source": [
        "The following cell downloads the original data and creates the data files `/content/blood_RNA_raw_counts.h5ad` and `/content/blood_RNA_raw_counts_SCG12.h5ad` that we will use for our analysis."
      ],
      "metadata": {
        "id": "xDeW27zhawEq"
      }
    },
    {
      "cell_type": "code",
      "execution_count": 3,
      "metadata": {
        "id": "X6XPqbwolXhs",
        "outputId": "91f3bb3c-c747-483c-f5c5-1bb3847fe3da",
        "colab": {
          "base_uri": "https://localhost:8080/"
        }
      },
      "outputs": [
        {
          "output_type": "stream",
          "name": "stderr",
          "text": [
            "/usr/local/lib/python3.12/dist-packages/scanpy/_utils/__init__.py:33: FutureWarning: `__version__` is deprecated, use `importlib.metadata.version('anndata')` instead.\n",
            "  from anndata import __version__ as anndata_version\n",
            "/usr/local/lib/python3.12/dist-packages/scanpy/__init__.py:24: FutureWarning: `__version__` is deprecated, use `importlib.metadata.version('anndata')` instead.\n",
            "  if Version(anndata.__version__) >= Version(\"0.11.0rc2\"):\n",
            "/usr/local/lib/python3.12/dist-packages/scanpy/readwrite.py:16: FutureWarning: `__version__` is deprecated, use `importlib.metadata.version('anndata')` instead.\n",
            "  if Version(anndata.__version__) >= Version(\"0.11.0rc2\"):\n"
          ]
        }
      ],
      "source": [
        "# @title Download Data and create the **raw data** files that we will use for our analysis\n",
        "################# THIS IS NOT PART OF THE WORKFLOW ##################\n",
        "import os\n",
        "\n",
        "if not os.path.exists('/content/blood_RNA.h5ad'):\n",
        "  # downloading the data from the paper takes ~1min\n",
        "  !wget -O blood_RNA.h5ad --header=\"User-Agent: Mozilla/5.0\" \"https://figshare.com/ndownloader/files/38849385?private_link=8aaa376913da23ae0def\" > /dev/null 2>&1\n",
        "\n",
        "\n",
        "if not os.path.exists('/content/blood_RNA_raw_counts.h5ad'):\n",
        "  # -- create the raw data by removing all processed data information from the author's file\n",
        "  import scanpy as sc\n",
        "  # load the single cell RNA seq dataset from the h5ad file\n",
        "  adata_processed = sc.read_h5ad('blood_RNA.h5ad') # AnnData object\n",
        "  X_raw_counts = adata_processed.layers['counts']\n",
        "  # the var dataframe\n",
        "  raw_var_df = adata_processed.raw.var.copy()\n",
        "  for i in raw_var_df.columns:\n",
        "    del raw_var_df[i]\n",
        "  raw_var_df['gene_name'] = raw_var_df.index\n",
        "  # the obs dataframe\n",
        "  raw_obs_df = adata_processed.obs[['LIBRARY',\t'CoLabs_patient',\t'condition']]\n",
        "  raw_obs_df.columns = ['LIBRARY_ID', 'patient_id', 'condition']\n",
        "  # create the anndata object\n",
        "  adata = sc.AnnData(X = X_raw_counts, var=raw_var_df, obs=raw_obs_df)\n",
        "  adata.write_h5ad('blood_RNA_raw_counts.h5ad')\n",
        "  adata=adata[ adata.obs['LIBRARY_ID'] == 'XAUT1-POOL-SCG12']\n",
        "  adata.write_h5ad('blood_RNA_raw_counts_SCG12.h5ad')\n",
        "  del adata, adata_processed # delete the all data"
      ]
    },
    {
      "cell_type": "markdown",
      "source": [
        "# Single cell RNA seq analysis (single batch)\n",
        "## Let's do a single batch first\n",
        "The `'blood_RNA_raw_counts_SCG12.h5ad'` file only contains the single-cell data from a single sequencing batch (library):\n",
        "\n",
        "LIBRARY_ID: `XAUT1-POOL-SCG12`."
      ],
      "metadata": {
        "id": "EmIVs-jG2daT"
      }
    },
    {
      "cell_type": "code",
      "source": [
        "import pandas as pd\n",
        "import scanpy as sc"
      ],
      "metadata": {
        "id": "68KPM4oF2g-v"
      },
      "execution_count": 4,
      "outputs": []
    },
    {
      "cell_type": "code",
      "source": [
        "### Settings (optional) ###\n",
        "\n",
        "# Show more columns in output\n",
        "pd.set_option('display.max_columns', 50)\n",
        "# Set parameters for the figures // sc.settings.set_figure_params?\n",
        "sc.settings.set_figure_params(dpi=80,fontsize=16, facecolor=\"white\",figsize=(8,6),color_map='viridis')\n",
        "# Suppress all warnings -- not recommended when working on your research projects!\n",
        "import warnings\n",
        "warnings.filterwarnings(\"ignore\")\n",
        "# print out the package versions\n",
        "print('scanpy version:', sc.__version__)\n",
        "print('pandas version:', pd.__version__)"
      ],
      "metadata": {
        "id": "DmFv2nvd2g-v"
      },
      "execution_count": null,
      "outputs": []
    },
    {
      "cell_type": "markdown",
      "source": [
        "## STEP 0: Load the data (raw counts)"
      ],
      "metadata": {
        "id": "rEg8eJGvqfE2"
      }
    },
    {
      "cell_type": "code",
      "source": [
        "###################################################### <- this will mark the functions that will change/update adata\n",
        "# [🔺] load the AnnData object from the h5ad file (blood_RNA_raw_counts_SCG12)\n",
        "adata = sc.read_h5ad('blood_RNA_raw_counts_SCG12.h5ad')\n"
      ],
      "metadata": {
        "id": "iF7wL45HqeSy"
      },
      "execution_count": 6,
      "outputs": []
    },
    {
      "cell_type": "code",
      "source": [
        "# display a summary of AnnData object\n",
        "adata"
      ],
      "metadata": {
        "id": "OkNeJ1sgqeP9",
        "outputId": "3688f367-2d7e-4e48-fea9-265e19a160cb",
        "colab": {
          "base_uri": "https://localhost:8080/"
        }
      },
      "execution_count": 7,
      "outputs": [
        {
          "output_type": "execute_result",
          "data": {
            "text/plain": [
              "AnnData object with n_obs × n_vars = 6410 × 22741\n",
              "    obs: 'LIBRARY_ID', 'patient_id', 'condition'\n",
              "    var: 'gene_name'"
            ]
          },
          "metadata": {},
          "execution_count": 7
        }
      ]
    },
    {
      "cell_type": "code",
      "source": [
        "# [🔺] lets explore what is in adata. In the following two cells display the obs and var dataframes\n"
      ],
      "metadata": {
        "id": "Ke0ilCr_qeND"
      },
      "execution_count": null,
      "outputs": []
    },
    {
      "cell_type": "code",
      "source": [
        "# [🔺] obs\n",
        "\n",
        "obs = adata.obs\n",
        "obs\n"
      ],
      "metadata": {
        "id": "aauGm8RLD2Br",
        "outputId": "7b2ec267-067d-4991-e75d-72fd07331921",
        "colab": {
          "base_uri": "https://localhost:8080/",
          "height": 424
        }
      },
      "execution_count": 10,
      "outputs": [
        {
          "output_type": "execute_result",
          "data": {
            "text/plain": [
              "                            LIBRARY_ID  patient_id condition\n",
              "AAACCTGAGCTAAACA-1_2  XAUT1-POOL-SCG12   XAUT1-HS7      UCNB\n",
              "AAACCTGAGTCAATAG-1_2  XAUT1-POOL-SCG12   XAUT1-HS2        HC\n",
              "AAACCTGCAATGGAGC-1_2  XAUT1-POOL-SCG12   XAUT1-HS4        HC\n",
              "AAACCTGCAGTAAGAT-1_2  XAUT1-POOL-SCG12   XAUT1-HS4        HC\n",
              "AAACCTGCATTAACCG-1_2  XAUT1-POOL-SCG12   XAUT1-HS3        HC\n",
              "...                                ...         ...       ...\n",
              "TTTGTCAGTTGTACAC-1_2  XAUT1-POOL-SCG12   XAUT1-HS3        HC\n",
              "TTTGTCATCCAAGCCG-1_2  XAUT1-POOL-SCG12  XAUT1-HS12       UCV\n",
              "TTTGTCATCCACGTGG-1_2  XAUT1-POOL-SCG12   XAUT1-HS6      UCNB\n",
              "TTTGTCATCCGATATG-1_2  XAUT1-POOL-SCG12   XAUT1-HS6      UCNB\n",
              "TTTGTCATCTACTCAT-1_2  XAUT1-POOL-SCG12   XAUT1-HS6      UCNB\n",
              "\n",
              "[6410 rows x 3 columns]"
            ],
            "text/html": [
              "\n",
              "  <div id=\"df-82faada2-2436-4d08-9d0c-35dc37ad6c68\" class=\"colab-df-container\">\n",
              "    <div>\n",
              "<style scoped>\n",
              "    .dataframe tbody tr th:only-of-type {\n",
              "        vertical-align: middle;\n",
              "    }\n",
              "\n",
              "    .dataframe tbody tr th {\n",
              "        vertical-align: top;\n",
              "    }\n",
              "\n",
              "    .dataframe thead th {\n",
              "        text-align: right;\n",
              "    }\n",
              "</style>\n",
              "<table border=\"1\" class=\"dataframe\">\n",
              "  <thead>\n",
              "    <tr style=\"text-align: right;\">\n",
              "      <th></th>\n",
              "      <th>LIBRARY_ID</th>\n",
              "      <th>patient_id</th>\n",
              "      <th>condition</th>\n",
              "    </tr>\n",
              "  </thead>\n",
              "  <tbody>\n",
              "    <tr>\n",
              "      <th>AAACCTGAGCTAAACA-1_2</th>\n",
              "      <td>XAUT1-POOL-SCG12</td>\n",
              "      <td>XAUT1-HS7</td>\n",
              "      <td>UCNB</td>\n",
              "    </tr>\n",
              "    <tr>\n",
              "      <th>AAACCTGAGTCAATAG-1_2</th>\n",
              "      <td>XAUT1-POOL-SCG12</td>\n",
              "      <td>XAUT1-HS2</td>\n",
              "      <td>HC</td>\n",
              "    </tr>\n",
              "    <tr>\n",
              "      <th>AAACCTGCAATGGAGC-1_2</th>\n",
              "      <td>XAUT1-POOL-SCG12</td>\n",
              "      <td>XAUT1-HS4</td>\n",
              "      <td>HC</td>\n",
              "    </tr>\n",
              "    <tr>\n",
              "      <th>AAACCTGCAGTAAGAT-1_2</th>\n",
              "      <td>XAUT1-POOL-SCG12</td>\n",
              "      <td>XAUT1-HS4</td>\n",
              "      <td>HC</td>\n",
              "    </tr>\n",
              "    <tr>\n",
              "      <th>AAACCTGCATTAACCG-1_2</th>\n",
              "      <td>XAUT1-POOL-SCG12</td>\n",
              "      <td>XAUT1-HS3</td>\n",
              "      <td>HC</td>\n",
              "    </tr>\n",
              "    <tr>\n",
              "      <th>...</th>\n",
              "      <td>...</td>\n",
              "      <td>...</td>\n",
              "      <td>...</td>\n",
              "    </tr>\n",
              "    <tr>\n",
              "      <th>TTTGTCAGTTGTACAC-1_2</th>\n",
              "      <td>XAUT1-POOL-SCG12</td>\n",
              "      <td>XAUT1-HS3</td>\n",
              "      <td>HC</td>\n",
              "    </tr>\n",
              "    <tr>\n",
              "      <th>TTTGTCATCCAAGCCG-1_2</th>\n",
              "      <td>XAUT1-POOL-SCG12</td>\n",
              "      <td>XAUT1-HS12</td>\n",
              "      <td>UCV</td>\n",
              "    </tr>\n",
              "    <tr>\n",
              "      <th>TTTGTCATCCACGTGG-1_2</th>\n",
              "      <td>XAUT1-POOL-SCG12</td>\n",
              "      <td>XAUT1-HS6</td>\n",
              "      <td>UCNB</td>\n",
              "    </tr>\n",
              "    <tr>\n",
              "      <th>TTTGTCATCCGATATG-1_2</th>\n",
              "      <td>XAUT1-POOL-SCG12</td>\n",
              "      <td>XAUT1-HS6</td>\n",
              "      <td>UCNB</td>\n",
              "    </tr>\n",
              "    <tr>\n",
              "      <th>TTTGTCATCTACTCAT-1_2</th>\n",
              "      <td>XAUT1-POOL-SCG12</td>\n",
              "      <td>XAUT1-HS6</td>\n",
              "      <td>UCNB</td>\n",
              "    </tr>\n",
              "  </tbody>\n",
              "</table>\n",
              "<p>6410 rows × 3 columns</p>\n",
              "</div>\n",
              "    <div class=\"colab-df-buttons\">\n",
              "\n",
              "  <div class=\"colab-df-container\">\n",
              "    <button class=\"colab-df-convert\" onclick=\"convertToInteractive('df-82faada2-2436-4d08-9d0c-35dc37ad6c68')\"\n",
              "            title=\"Convert this dataframe to an interactive table.\"\n",
              "            style=\"display:none;\">\n",
              "\n",
              "  <svg xmlns=\"http://www.w3.org/2000/svg\" height=\"24px\" viewBox=\"0 -960 960 960\">\n",
              "    <path d=\"M120-120v-720h720v720H120Zm60-500h600v-160H180v160Zm220 220h160v-160H400v160Zm0 220h160v-160H400v160ZM180-400h160v-160H180v160Zm440 0h160v-160H620v160ZM180-180h160v-160H180v160Zm440 0h160v-160H620v160Z\"/>\n",
              "  </svg>\n",
              "    </button>\n",
              "\n",
              "  <style>\n",
              "    .colab-df-container {\n",
              "      display:flex;\n",
              "      gap: 12px;\n",
              "    }\n",
              "\n",
              "    .colab-df-convert {\n",
              "      background-color: #E8F0FE;\n",
              "      border: none;\n",
              "      border-radius: 50%;\n",
              "      cursor: pointer;\n",
              "      display: none;\n",
              "      fill: #1967D2;\n",
              "      height: 32px;\n",
              "      padding: 0 0 0 0;\n",
              "      width: 32px;\n",
              "    }\n",
              "\n",
              "    .colab-df-convert:hover {\n",
              "      background-color: #E2EBFA;\n",
              "      box-shadow: 0px 1px 2px rgba(60, 64, 67, 0.3), 0px 1px 3px 1px rgba(60, 64, 67, 0.15);\n",
              "      fill: #174EA6;\n",
              "    }\n",
              "\n",
              "    .colab-df-buttons div {\n",
              "      margin-bottom: 4px;\n",
              "    }\n",
              "\n",
              "    [theme=dark] .colab-df-convert {\n",
              "      background-color: #3B4455;\n",
              "      fill: #D2E3FC;\n",
              "    }\n",
              "\n",
              "    [theme=dark] .colab-df-convert:hover {\n",
              "      background-color: #434B5C;\n",
              "      box-shadow: 0px 1px 3px 1px rgba(0, 0, 0, 0.15);\n",
              "      filter: drop-shadow(0px 1px 2px rgba(0, 0, 0, 0.3));\n",
              "      fill: #FFFFFF;\n",
              "    }\n",
              "  </style>\n",
              "\n",
              "    <script>\n",
              "      const buttonEl =\n",
              "        document.querySelector('#df-82faada2-2436-4d08-9d0c-35dc37ad6c68 button.colab-df-convert');\n",
              "      buttonEl.style.display =\n",
              "        google.colab.kernel.accessAllowed ? 'block' : 'none';\n",
              "\n",
              "      async function convertToInteractive(key) {\n",
              "        const element = document.querySelector('#df-82faada2-2436-4d08-9d0c-35dc37ad6c68');\n",
              "        const dataTable =\n",
              "          await google.colab.kernel.invokeFunction('convertToInteractive',\n",
              "                                                    [key], {});\n",
              "        if (!dataTable) return;\n",
              "\n",
              "        const docLinkHtml = 'Like what you see? Visit the ' +\n",
              "          '<a target=\"_blank\" href=https://colab.research.google.com/notebooks/data_table.ipynb>data table notebook</a>'\n",
              "          + ' to learn more about interactive tables.';\n",
              "        element.innerHTML = '';\n",
              "        dataTable['output_type'] = 'display_data';\n",
              "        await google.colab.output.renderOutput(dataTable, element);\n",
              "        const docLink = document.createElement('div');\n",
              "        docLink.innerHTML = docLinkHtml;\n",
              "        element.appendChild(docLink);\n",
              "      }\n",
              "    </script>\n",
              "  </div>\n",
              "\n",
              "\n",
              "    <div id=\"df-59f0c858-aa41-4849-9f81-d9bfed070285\">\n",
              "      <button class=\"colab-df-quickchart\" onclick=\"quickchart('df-59f0c858-aa41-4849-9f81-d9bfed070285')\"\n",
              "                title=\"Suggest charts\"\n",
              "                style=\"display:none;\">\n",
              "\n",
              "<svg xmlns=\"http://www.w3.org/2000/svg\" height=\"24px\"viewBox=\"0 0 24 24\"\n",
              "     width=\"24px\">\n",
              "    <g>\n",
              "        <path d=\"M19 3H5c-1.1 0-2 .9-2 2v14c0 1.1.9 2 2 2h14c1.1 0 2-.9 2-2V5c0-1.1-.9-2-2-2zM9 17H7v-7h2v7zm4 0h-2V7h2v10zm4 0h-2v-4h2v4z\"/>\n",
              "    </g>\n",
              "</svg>\n",
              "      </button>\n",
              "\n",
              "<style>\n",
              "  .colab-df-quickchart {\n",
              "      --bg-color: #E8F0FE;\n",
              "      --fill-color: #1967D2;\n",
              "      --hover-bg-color: #E2EBFA;\n",
              "      --hover-fill-color: #174EA6;\n",
              "      --disabled-fill-color: #AAA;\n",
              "      --disabled-bg-color: #DDD;\n",
              "  }\n",
              "\n",
              "  [theme=dark] .colab-df-quickchart {\n",
              "      --bg-color: #3B4455;\n",
              "      --fill-color: #D2E3FC;\n",
              "      --hover-bg-color: #434B5C;\n",
              "      --hover-fill-color: #FFFFFF;\n",
              "      --disabled-bg-color: #3B4455;\n",
              "      --disabled-fill-color: #666;\n",
              "  }\n",
              "\n",
              "  .colab-df-quickchart {\n",
              "    background-color: var(--bg-color);\n",
              "    border: none;\n",
              "    border-radius: 50%;\n",
              "    cursor: pointer;\n",
              "    display: none;\n",
              "    fill: var(--fill-color);\n",
              "    height: 32px;\n",
              "    padding: 0;\n",
              "    width: 32px;\n",
              "  }\n",
              "\n",
              "  .colab-df-quickchart:hover {\n",
              "    background-color: var(--hover-bg-color);\n",
              "    box-shadow: 0 1px 2px rgba(60, 64, 67, 0.3), 0 1px 3px 1px rgba(60, 64, 67, 0.15);\n",
              "    fill: var(--button-hover-fill-color);\n",
              "  }\n",
              "\n",
              "  .colab-df-quickchart-complete:disabled,\n",
              "  .colab-df-quickchart-complete:disabled:hover {\n",
              "    background-color: var(--disabled-bg-color);\n",
              "    fill: var(--disabled-fill-color);\n",
              "    box-shadow: none;\n",
              "  }\n",
              "\n",
              "  .colab-df-spinner {\n",
              "    border: 2px solid var(--fill-color);\n",
              "    border-color: transparent;\n",
              "    border-bottom-color: var(--fill-color);\n",
              "    animation:\n",
              "      spin 1s steps(1) infinite;\n",
              "  }\n",
              "\n",
              "  @keyframes spin {\n",
              "    0% {\n",
              "      border-color: transparent;\n",
              "      border-bottom-color: var(--fill-color);\n",
              "      border-left-color: var(--fill-color);\n",
              "    }\n",
              "    20% {\n",
              "      border-color: transparent;\n",
              "      border-left-color: var(--fill-color);\n",
              "      border-top-color: var(--fill-color);\n",
              "    }\n",
              "    30% {\n",
              "      border-color: transparent;\n",
              "      border-left-color: var(--fill-color);\n",
              "      border-top-color: var(--fill-color);\n",
              "      border-right-color: var(--fill-color);\n",
              "    }\n",
              "    40% {\n",
              "      border-color: transparent;\n",
              "      border-right-color: var(--fill-color);\n",
              "      border-top-color: var(--fill-color);\n",
              "    }\n",
              "    60% {\n",
              "      border-color: transparent;\n",
              "      border-right-color: var(--fill-color);\n",
              "    }\n",
              "    80% {\n",
              "      border-color: transparent;\n",
              "      border-right-color: var(--fill-color);\n",
              "      border-bottom-color: var(--fill-color);\n",
              "    }\n",
              "    90% {\n",
              "      border-color: transparent;\n",
              "      border-bottom-color: var(--fill-color);\n",
              "    }\n",
              "  }\n",
              "</style>\n",
              "\n",
              "      <script>\n",
              "        async function quickchart(key) {\n",
              "          const quickchartButtonEl =\n",
              "            document.querySelector('#' + key + ' button');\n",
              "          quickchartButtonEl.disabled = true;  // To prevent multiple clicks.\n",
              "          quickchartButtonEl.classList.add('colab-df-spinner');\n",
              "          try {\n",
              "            const charts = await google.colab.kernel.invokeFunction(\n",
              "                'suggestCharts', [key], {});\n",
              "          } catch (error) {\n",
              "            console.error('Error during call to suggestCharts:', error);\n",
              "          }\n",
              "          quickchartButtonEl.classList.remove('colab-df-spinner');\n",
              "          quickchartButtonEl.classList.add('colab-df-quickchart-complete');\n",
              "        }\n",
              "        (() => {\n",
              "          let quickchartButtonEl =\n",
              "            document.querySelector('#df-59f0c858-aa41-4849-9f81-d9bfed070285 button');\n",
              "          quickchartButtonEl.style.display =\n",
              "            google.colab.kernel.accessAllowed ? 'block' : 'none';\n",
              "        })();\n",
              "      </script>\n",
              "    </div>\n",
              "\n",
              "  <div id=\"id_ac118e68-ce32-4646-aa84-bc937b8c7289\">\n",
              "    <style>\n",
              "      .colab-df-generate {\n",
              "        background-color: #E8F0FE;\n",
              "        border: none;\n",
              "        border-radius: 50%;\n",
              "        cursor: pointer;\n",
              "        display: none;\n",
              "        fill: #1967D2;\n",
              "        height: 32px;\n",
              "        padding: 0 0 0 0;\n",
              "        width: 32px;\n",
              "      }\n",
              "\n",
              "      .colab-df-generate:hover {\n",
              "        background-color: #E2EBFA;\n",
              "        box-shadow: 0px 1px 2px rgba(60, 64, 67, 0.3), 0px 1px 3px 1px rgba(60, 64, 67, 0.15);\n",
              "        fill: #174EA6;\n",
              "      }\n",
              "\n",
              "      [theme=dark] .colab-df-generate {\n",
              "        background-color: #3B4455;\n",
              "        fill: #D2E3FC;\n",
              "      }\n",
              "\n",
              "      [theme=dark] .colab-df-generate:hover {\n",
              "        background-color: #434B5C;\n",
              "        box-shadow: 0px 1px 3px 1px rgba(0, 0, 0, 0.15);\n",
              "        filter: drop-shadow(0px 1px 2px rgba(0, 0, 0, 0.3));\n",
              "        fill: #FFFFFF;\n",
              "      }\n",
              "    </style>\n",
              "    <button class=\"colab-df-generate\" onclick=\"generateWithVariable('obs')\"\n",
              "            title=\"Generate code using this dataframe.\"\n",
              "            style=\"display:none;\">\n",
              "\n",
              "  <svg xmlns=\"http://www.w3.org/2000/svg\" height=\"24px\"viewBox=\"0 0 24 24\"\n",
              "       width=\"24px\">\n",
              "    <path d=\"M7,19H8.4L18.45,9,17,7.55,7,17.6ZM5,21V16.75L18.45,3.32a2,2,0,0,1,2.83,0l1.4,1.43a1.91,1.91,0,0,1,.58,1.4,1.91,1.91,0,0,1-.58,1.4L9.25,21ZM18.45,9,17,7.55Zm-12,3A5.31,5.31,0,0,0,4.9,8.1,5.31,5.31,0,0,0,1,6.5,5.31,5.31,0,0,0,4.9,4.9,5.31,5.31,0,0,0,6.5,1,5.31,5.31,0,0,0,8.1,4.9,5.31,5.31,0,0,0,12,6.5,5.46,5.46,0,0,0,6.5,12Z\"/>\n",
              "  </svg>\n",
              "    </button>\n",
              "    <script>\n",
              "      (() => {\n",
              "      const buttonEl =\n",
              "        document.querySelector('#id_ac118e68-ce32-4646-aa84-bc937b8c7289 button.colab-df-generate');\n",
              "      buttonEl.style.display =\n",
              "        google.colab.kernel.accessAllowed ? 'block' : 'none';\n",
              "\n",
              "      buttonEl.onclick = () => {\n",
              "        google.colab.notebook.generateWithVariable('obs');\n",
              "      }\n",
              "      })();\n",
              "    </script>\n",
              "  </div>\n",
              "\n",
              "    </div>\n",
              "  </div>\n"
            ],
            "application/vnd.google.colaboratory.intrinsic+json": {
              "type": "dataframe",
              "variable_name": "obs",
              "summary": "{\n  \"name\": \"obs\",\n  \"rows\": 6410,\n  \"fields\": [\n    {\n      \"column\": \"LIBRARY_ID\",\n      \"properties\": {\n        \"dtype\": \"category\",\n        \"num_unique_values\": 1,\n        \"samples\": [\n          \"XAUT1-POOL-SCG12\"\n        ],\n        \"semantic_type\": \"\",\n        \"description\": \"\"\n      }\n    },\n    {\n      \"column\": \"patient_id\",\n      \"properties\": {\n        \"dtype\": \"category\",\n        \"num_unique_values\": 11,\n        \"samples\": [\n          \"XAUT1-HS6\"\n        ],\n        \"semantic_type\": \"\",\n        \"description\": \"\"\n      }\n    },\n    {\n      \"column\": \"condition\",\n      \"properties\": {\n        \"dtype\": \"category\",\n        \"num_unique_values\": 3,\n        \"samples\": [\n          \"UCNB\"\n        ],\n        \"semantic_type\": \"\",\n        \"description\": \"\"\n      }\n    }\n  ]\n}"
            }
          },
          "metadata": {},
          "execution_count": 10
        }
      ]
    },
    {
      "cell_type": "code",
      "source": [
        "# [🔺] var\n",
        "\n",
        "var = adata.var\n",
        "var\n"
      ],
      "metadata": {
        "id": "a71EnwTtD1-I",
        "outputId": "c9d1b822-b841-4e7d-bfa5-db5e2c34737b",
        "colab": {
          "base_uri": "https://localhost:8080/",
          "height": 424
        }
      },
      "execution_count": 11,
      "outputs": [
        {
          "output_type": "execute_result",
          "data": {
            "text/plain": [
              "                   gene_name\n",
              "RP11-34P13.7    RP11-34P13.7\n",
              "RP11-34P13.15  RP11-34P13.15\n",
              "RP11-34P13.16  RP11-34P13.16\n",
              "RP11-34P13.13  RP11-34P13.13\n",
              "FO538757.2        FO538757.2\n",
              "...                      ...\n",
              "RSPH1                  RSPH1\n",
              "IMMTP1                IMMTP1\n",
              "LINC00315          LINC00315\n",
              "AL133493.2        AL133493.2\n",
              "FTCD                    FTCD\n",
              "\n",
              "[22741 rows x 1 columns]"
            ],
            "text/html": [
              "\n",
              "  <div id=\"df-71c8f4c6-591f-4c8a-a9d3-5208d7aa84f4\" class=\"colab-df-container\">\n",
              "    <div>\n",
              "<style scoped>\n",
              "    .dataframe tbody tr th:only-of-type {\n",
              "        vertical-align: middle;\n",
              "    }\n",
              "\n",
              "    .dataframe tbody tr th {\n",
              "        vertical-align: top;\n",
              "    }\n",
              "\n",
              "    .dataframe thead th {\n",
              "        text-align: right;\n",
              "    }\n",
              "</style>\n",
              "<table border=\"1\" class=\"dataframe\">\n",
              "  <thead>\n",
              "    <tr style=\"text-align: right;\">\n",
              "      <th></th>\n",
              "      <th>gene_name</th>\n",
              "    </tr>\n",
              "  </thead>\n",
              "  <tbody>\n",
              "    <tr>\n",
              "      <th>RP11-34P13.7</th>\n",
              "      <td>RP11-34P13.7</td>\n",
              "    </tr>\n",
              "    <tr>\n",
              "      <th>RP11-34P13.15</th>\n",
              "      <td>RP11-34P13.15</td>\n",
              "    </tr>\n",
              "    <tr>\n",
              "      <th>RP11-34P13.16</th>\n",
              "      <td>RP11-34P13.16</td>\n",
              "    </tr>\n",
              "    <tr>\n",
              "      <th>RP11-34P13.13</th>\n",
              "      <td>RP11-34P13.13</td>\n",
              "    </tr>\n",
              "    <tr>\n",
              "      <th>FO538757.2</th>\n",
              "      <td>FO538757.2</td>\n",
              "    </tr>\n",
              "    <tr>\n",
              "      <th>...</th>\n",
              "      <td>...</td>\n",
              "    </tr>\n",
              "    <tr>\n",
              "      <th>RSPH1</th>\n",
              "      <td>RSPH1</td>\n",
              "    </tr>\n",
              "    <tr>\n",
              "      <th>IMMTP1</th>\n",
              "      <td>IMMTP1</td>\n",
              "    </tr>\n",
              "    <tr>\n",
              "      <th>LINC00315</th>\n",
              "      <td>LINC00315</td>\n",
              "    </tr>\n",
              "    <tr>\n",
              "      <th>AL133493.2</th>\n",
              "      <td>AL133493.2</td>\n",
              "    </tr>\n",
              "    <tr>\n",
              "      <th>FTCD</th>\n",
              "      <td>FTCD</td>\n",
              "    </tr>\n",
              "  </tbody>\n",
              "</table>\n",
              "<p>22741 rows × 1 columns</p>\n",
              "</div>\n",
              "    <div class=\"colab-df-buttons\">\n",
              "\n",
              "  <div class=\"colab-df-container\">\n",
              "    <button class=\"colab-df-convert\" onclick=\"convertToInteractive('df-71c8f4c6-591f-4c8a-a9d3-5208d7aa84f4')\"\n",
              "            title=\"Convert this dataframe to an interactive table.\"\n",
              "            style=\"display:none;\">\n",
              "\n",
              "  <svg xmlns=\"http://www.w3.org/2000/svg\" height=\"24px\" viewBox=\"0 -960 960 960\">\n",
              "    <path d=\"M120-120v-720h720v720H120Zm60-500h600v-160H180v160Zm220 220h160v-160H400v160Zm0 220h160v-160H400v160ZM180-400h160v-160H180v160Zm440 0h160v-160H620v160ZM180-180h160v-160H180v160Zm440 0h160v-160H620v160Z\"/>\n",
              "  </svg>\n",
              "    </button>\n",
              "\n",
              "  <style>\n",
              "    .colab-df-container {\n",
              "      display:flex;\n",
              "      gap: 12px;\n",
              "    }\n",
              "\n",
              "    .colab-df-convert {\n",
              "      background-color: #E8F0FE;\n",
              "      border: none;\n",
              "      border-radius: 50%;\n",
              "      cursor: pointer;\n",
              "      display: none;\n",
              "      fill: #1967D2;\n",
              "      height: 32px;\n",
              "      padding: 0 0 0 0;\n",
              "      width: 32px;\n",
              "    }\n",
              "\n",
              "    .colab-df-convert:hover {\n",
              "      background-color: #E2EBFA;\n",
              "      box-shadow: 0px 1px 2px rgba(60, 64, 67, 0.3), 0px 1px 3px 1px rgba(60, 64, 67, 0.15);\n",
              "      fill: #174EA6;\n",
              "    }\n",
              "\n",
              "    .colab-df-buttons div {\n",
              "      margin-bottom: 4px;\n",
              "    }\n",
              "\n",
              "    [theme=dark] .colab-df-convert {\n",
              "      background-color: #3B4455;\n",
              "      fill: #D2E3FC;\n",
              "    }\n",
              "\n",
              "    [theme=dark] .colab-df-convert:hover {\n",
              "      background-color: #434B5C;\n",
              "      box-shadow: 0px 1px 3px 1px rgba(0, 0, 0, 0.15);\n",
              "      filter: drop-shadow(0px 1px 2px rgba(0, 0, 0, 0.3));\n",
              "      fill: #FFFFFF;\n",
              "    }\n",
              "  </style>\n",
              "\n",
              "    <script>\n",
              "      const buttonEl =\n",
              "        document.querySelector('#df-71c8f4c6-591f-4c8a-a9d3-5208d7aa84f4 button.colab-df-convert');\n",
              "      buttonEl.style.display =\n",
              "        google.colab.kernel.accessAllowed ? 'block' : 'none';\n",
              "\n",
              "      async function convertToInteractive(key) {\n",
              "        const element = document.querySelector('#df-71c8f4c6-591f-4c8a-a9d3-5208d7aa84f4');\n",
              "        const dataTable =\n",
              "          await google.colab.kernel.invokeFunction('convertToInteractive',\n",
              "                                                    [key], {});\n",
              "        if (!dataTable) return;\n",
              "\n",
              "        const docLinkHtml = 'Like what you see? Visit the ' +\n",
              "          '<a target=\"_blank\" href=https://colab.research.google.com/notebooks/data_table.ipynb>data table notebook</a>'\n",
              "          + ' to learn more about interactive tables.';\n",
              "        element.innerHTML = '';\n",
              "        dataTable['output_type'] = 'display_data';\n",
              "        await google.colab.output.renderOutput(dataTable, element);\n",
              "        const docLink = document.createElement('div');\n",
              "        docLink.innerHTML = docLinkHtml;\n",
              "        element.appendChild(docLink);\n",
              "      }\n",
              "    </script>\n",
              "  </div>\n",
              "\n",
              "\n",
              "    <div id=\"df-1b2a886c-867d-4233-8ca0-2d6608289a2a\">\n",
              "      <button class=\"colab-df-quickchart\" onclick=\"quickchart('df-1b2a886c-867d-4233-8ca0-2d6608289a2a')\"\n",
              "                title=\"Suggest charts\"\n",
              "                style=\"display:none;\">\n",
              "\n",
              "<svg xmlns=\"http://www.w3.org/2000/svg\" height=\"24px\"viewBox=\"0 0 24 24\"\n",
              "     width=\"24px\">\n",
              "    <g>\n",
              "        <path d=\"M19 3H5c-1.1 0-2 .9-2 2v14c0 1.1.9 2 2 2h14c1.1 0 2-.9 2-2V5c0-1.1-.9-2-2-2zM9 17H7v-7h2v7zm4 0h-2V7h2v10zm4 0h-2v-4h2v4z\"/>\n",
              "    </g>\n",
              "</svg>\n",
              "      </button>\n",
              "\n",
              "<style>\n",
              "  .colab-df-quickchart {\n",
              "      --bg-color: #E8F0FE;\n",
              "      --fill-color: #1967D2;\n",
              "      --hover-bg-color: #E2EBFA;\n",
              "      --hover-fill-color: #174EA6;\n",
              "      --disabled-fill-color: #AAA;\n",
              "      --disabled-bg-color: #DDD;\n",
              "  }\n",
              "\n",
              "  [theme=dark] .colab-df-quickchart {\n",
              "      --bg-color: #3B4455;\n",
              "      --fill-color: #D2E3FC;\n",
              "      --hover-bg-color: #434B5C;\n",
              "      --hover-fill-color: #FFFFFF;\n",
              "      --disabled-bg-color: #3B4455;\n",
              "      --disabled-fill-color: #666;\n",
              "  }\n",
              "\n",
              "  .colab-df-quickchart {\n",
              "    background-color: var(--bg-color);\n",
              "    border: none;\n",
              "    border-radius: 50%;\n",
              "    cursor: pointer;\n",
              "    display: none;\n",
              "    fill: var(--fill-color);\n",
              "    height: 32px;\n",
              "    padding: 0;\n",
              "    width: 32px;\n",
              "  }\n",
              "\n",
              "  .colab-df-quickchart:hover {\n",
              "    background-color: var(--hover-bg-color);\n",
              "    box-shadow: 0 1px 2px rgba(60, 64, 67, 0.3), 0 1px 3px 1px rgba(60, 64, 67, 0.15);\n",
              "    fill: var(--button-hover-fill-color);\n",
              "  }\n",
              "\n",
              "  .colab-df-quickchart-complete:disabled,\n",
              "  .colab-df-quickchart-complete:disabled:hover {\n",
              "    background-color: var(--disabled-bg-color);\n",
              "    fill: var(--disabled-fill-color);\n",
              "    box-shadow: none;\n",
              "  }\n",
              "\n",
              "  .colab-df-spinner {\n",
              "    border: 2px solid var(--fill-color);\n",
              "    border-color: transparent;\n",
              "    border-bottom-color: var(--fill-color);\n",
              "    animation:\n",
              "      spin 1s steps(1) infinite;\n",
              "  }\n",
              "\n",
              "  @keyframes spin {\n",
              "    0% {\n",
              "      border-color: transparent;\n",
              "      border-bottom-color: var(--fill-color);\n",
              "      border-left-color: var(--fill-color);\n",
              "    }\n",
              "    20% {\n",
              "      border-color: transparent;\n",
              "      border-left-color: var(--fill-color);\n",
              "      border-top-color: var(--fill-color);\n",
              "    }\n",
              "    30% {\n",
              "      border-color: transparent;\n",
              "      border-left-color: var(--fill-color);\n",
              "      border-top-color: var(--fill-color);\n",
              "      border-right-color: var(--fill-color);\n",
              "    }\n",
              "    40% {\n",
              "      border-color: transparent;\n",
              "      border-right-color: var(--fill-color);\n",
              "      border-top-color: var(--fill-color);\n",
              "    }\n",
              "    60% {\n",
              "      border-color: transparent;\n",
              "      border-right-color: var(--fill-color);\n",
              "    }\n",
              "    80% {\n",
              "      border-color: transparent;\n",
              "      border-right-color: var(--fill-color);\n",
              "      border-bottom-color: var(--fill-color);\n",
              "    }\n",
              "    90% {\n",
              "      border-color: transparent;\n",
              "      border-bottom-color: var(--fill-color);\n",
              "    }\n",
              "  }\n",
              "</style>\n",
              "\n",
              "      <script>\n",
              "        async function quickchart(key) {\n",
              "          const quickchartButtonEl =\n",
              "            document.querySelector('#' + key + ' button');\n",
              "          quickchartButtonEl.disabled = true;  // To prevent multiple clicks.\n",
              "          quickchartButtonEl.classList.add('colab-df-spinner');\n",
              "          try {\n",
              "            const charts = await google.colab.kernel.invokeFunction(\n",
              "                'suggestCharts', [key], {});\n",
              "          } catch (error) {\n",
              "            console.error('Error during call to suggestCharts:', error);\n",
              "          }\n",
              "          quickchartButtonEl.classList.remove('colab-df-spinner');\n",
              "          quickchartButtonEl.classList.add('colab-df-quickchart-complete');\n",
              "        }\n",
              "        (() => {\n",
              "          let quickchartButtonEl =\n",
              "            document.querySelector('#df-1b2a886c-867d-4233-8ca0-2d6608289a2a button');\n",
              "          quickchartButtonEl.style.display =\n",
              "            google.colab.kernel.accessAllowed ? 'block' : 'none';\n",
              "        })();\n",
              "      </script>\n",
              "    </div>\n",
              "\n",
              "  <div id=\"id_415eef9e-335f-4d52-990a-0ae81d3b1925\">\n",
              "    <style>\n",
              "      .colab-df-generate {\n",
              "        background-color: #E8F0FE;\n",
              "        border: none;\n",
              "        border-radius: 50%;\n",
              "        cursor: pointer;\n",
              "        display: none;\n",
              "        fill: #1967D2;\n",
              "        height: 32px;\n",
              "        padding: 0 0 0 0;\n",
              "        width: 32px;\n",
              "      }\n",
              "\n",
              "      .colab-df-generate:hover {\n",
              "        background-color: #E2EBFA;\n",
              "        box-shadow: 0px 1px 2px rgba(60, 64, 67, 0.3), 0px 1px 3px 1px rgba(60, 64, 67, 0.15);\n",
              "        fill: #174EA6;\n",
              "      }\n",
              "\n",
              "      [theme=dark] .colab-df-generate {\n",
              "        background-color: #3B4455;\n",
              "        fill: #D2E3FC;\n",
              "      }\n",
              "\n",
              "      [theme=dark] .colab-df-generate:hover {\n",
              "        background-color: #434B5C;\n",
              "        box-shadow: 0px 1px 3px 1px rgba(0, 0, 0, 0.15);\n",
              "        filter: drop-shadow(0px 1px 2px rgba(0, 0, 0, 0.3));\n",
              "        fill: #FFFFFF;\n",
              "      }\n",
              "    </style>\n",
              "    <button class=\"colab-df-generate\" onclick=\"generateWithVariable('var')\"\n",
              "            title=\"Generate code using this dataframe.\"\n",
              "            style=\"display:none;\">\n",
              "\n",
              "  <svg xmlns=\"http://www.w3.org/2000/svg\" height=\"24px\"viewBox=\"0 0 24 24\"\n",
              "       width=\"24px\">\n",
              "    <path d=\"M7,19H8.4L18.45,9,17,7.55,7,17.6ZM5,21V16.75L18.45,3.32a2,2,0,0,1,2.83,0l1.4,1.43a1.91,1.91,0,0,1,.58,1.4,1.91,1.91,0,0,1-.58,1.4L9.25,21ZM18.45,9,17,7.55Zm-12,3A5.31,5.31,0,0,0,4.9,8.1,5.31,5.31,0,0,0,1,6.5,5.31,5.31,0,0,0,4.9,4.9,5.31,5.31,0,0,0,6.5,1,5.31,5.31,0,0,0,8.1,4.9,5.31,5.31,0,0,0,12,6.5,5.46,5.46,0,0,0,6.5,12Z\"/>\n",
              "  </svg>\n",
              "    </button>\n",
              "    <script>\n",
              "      (() => {\n",
              "      const buttonEl =\n",
              "        document.querySelector('#id_415eef9e-335f-4d52-990a-0ae81d3b1925 button.colab-df-generate');\n",
              "      buttonEl.style.display =\n",
              "        google.colab.kernel.accessAllowed ? 'block' : 'none';\n",
              "\n",
              "      buttonEl.onclick = () => {\n",
              "        google.colab.notebook.generateWithVariable('var');\n",
              "      }\n",
              "      })();\n",
              "    </script>\n",
              "  </div>\n",
              "\n",
              "    </div>\n",
              "  </div>\n"
            ],
            "application/vnd.google.colaboratory.intrinsic+json": {
              "type": "dataframe",
              "variable_name": "var",
              "summary": "{\n  \"name\": \"var\",\n  \"rows\": 22741,\n  \"fields\": [\n    {\n      \"column\": \"gene_name\",\n      \"properties\": {\n        \"dtype\": \"string\",\n        \"num_unique_values\": 22741,\n        \"samples\": [\n          \"SHROOM1\",\n          \"PRRC2C\",\n          \"AC018804.6\"\n        ],\n        \"semantic_type\": \"\",\n        \"description\": \"\"\n      }\n    }\n  ]\n}"
            }
          },
          "metadata": {},
          "execution_count": 11
        }
      ]
    },
    {
      "cell_type": "code",
      "source": [
        "# adata.var_names stores the gene names. It is the same as the index of the var dataframe:\n",
        "adata.var_names"
      ],
      "metadata": {
        "id": "EG8VDw2yD3b7",
        "outputId": "3de8933e-feb6-447c-a1b8-2bf8b0693187",
        "colab": {
          "base_uri": "https://localhost:8080/"
        }
      },
      "execution_count": 12,
      "outputs": [
        {
          "output_type": "execute_result",
          "data": {
            "text/plain": [
              "Index(['RP11-34P13.7', 'RP11-34P13.15', 'RP11-34P13.16', 'RP11-34P13.13',\n",
              "       'FO538757.2', 'FO538757.1', 'AP006222.2', 'RP4-669L17.10',\n",
              "       'RP4-669L17.8', 'RP5-857K21.4',\n",
              "       ...\n",
              "       'AJ006998.2', 'UBE3AP2', 'AP000569.9', 'AP000320.6', 'AP001619.2',\n",
              "       'RSPH1', 'IMMTP1', 'LINC00315', 'AL133493.2', 'FTCD'],\n",
              "      dtype='object', length=22741)"
            ]
          },
          "metadata": {},
          "execution_count": 12
        }
      ]
    },
    {
      "cell_type": "code",
      "source": [
        "# You can also directly access adata.X\n",
        "adata.X"
      ],
      "metadata": {
        "id": "Qw7ZlJwtvwjn",
        "outputId": "ac58efb5-f99d-46cf-883f-1f573ca01372",
        "colab": {
          "base_uri": "https://localhost:8080/"
        }
      },
      "execution_count": 13,
      "outputs": [
        {
          "output_type": "execute_result",
          "data": {
            "text/plain": [
              "<Compressed Sparse Row sparse matrix of dtype 'float64'\n",
              "\twith 5758880 stored elements and shape (6410, 22741)>"
            ]
          },
          "metadata": {},
          "execution_count": 13
        }
      ]
    },
    {
      "cell_type": "markdown",
      "source": [
        "## STEP 1: Quality control"
      ],
      "metadata": {
        "id": "oPyg9RPtvn_c"
      }
    },
    {
      "cell_type": "code",
      "source": [
        "# mitochondrial gene names start with \"MT-\" for human and \"Mt-\" for mouse\n",
        "# explain what the following command does (Hint: what is adata.var_names? what does the .str.startstwith() function do?)\n",
        "adata.var_names.str.startswith(\"MT-\")"
      ],
      "metadata": {
        "id": "Q4Ox8tpx1RM2",
        "outputId": "e4455eef-42cd-421c-d323-a0b4556879dd",
        "colab": {
          "base_uri": "https://localhost:8080/"
        }
      },
      "execution_count": 14,
      "outputs": [
        {
          "output_type": "execute_result",
          "data": {
            "text/plain": [
              "array([False, False, False, ..., False, False, False])"
            ]
          },
          "metadata": {},
          "execution_count": 14
        }
      ]
    },
    {
      "cell_type": "code",
      "source": [
        "######################################################\n",
        "# [🔺] create a new column in adata.var dataframe that indicates if a gene is mitochondrial or not (True if it is / False otherwise)\n",
        "# choose an informative name for the new column : )\n",
        "adata.var['mito'] = adata.var_names.str.startswith(\"MT-\")\n",
        "\n"
      ],
      "metadata": {
        "id": "UoyeJ3wYuDnJ"
      },
      "execution_count": 19,
      "outputs": []
    },
    {
      "cell_type": "code",
      "source": [
        "# verify that the column was added (you can just display the relevant dataframe)\n",
        "adata.var.head()"
      ],
      "metadata": {
        "id": "XTW20VIYxg4b",
        "outputId": "ecfe4545-8a7f-4e54-fb4b-8a55a16e37a6",
        "colab": {
          "base_uri": "https://localhost:8080/",
          "height": 206
        }
      },
      "execution_count": 20,
      "outputs": [
        {
          "output_type": "execute_result",
          "data": {
            "text/plain": [
              "                   gene_name   mito\n",
              "RP11-34P13.7    RP11-34P13.7  False\n",
              "RP11-34P13.15  RP11-34P13.15  False\n",
              "RP11-34P13.16  RP11-34P13.16  False\n",
              "RP11-34P13.13  RP11-34P13.13  False\n",
              "FO538757.2        FO538757.2  False"
            ],
            "text/html": [
              "\n",
              "  <div id=\"df-586863cd-dc53-434e-ad81-3fdc33bb3dfa\" class=\"colab-df-container\">\n",
              "    <div>\n",
              "<style scoped>\n",
              "    .dataframe tbody tr th:only-of-type {\n",
              "        vertical-align: middle;\n",
              "    }\n",
              "\n",
              "    .dataframe tbody tr th {\n",
              "        vertical-align: top;\n",
              "    }\n",
              "\n",
              "    .dataframe thead th {\n",
              "        text-align: right;\n",
              "    }\n",
              "</style>\n",
              "<table border=\"1\" class=\"dataframe\">\n",
              "  <thead>\n",
              "    <tr style=\"text-align: right;\">\n",
              "      <th></th>\n",
              "      <th>gene_name</th>\n",
              "      <th>mito</th>\n",
              "    </tr>\n",
              "  </thead>\n",
              "  <tbody>\n",
              "    <tr>\n",
              "      <th>RP11-34P13.7</th>\n",
              "      <td>RP11-34P13.7</td>\n",
              "      <td>False</td>\n",
              "    </tr>\n",
              "    <tr>\n",
              "      <th>RP11-34P13.15</th>\n",
              "      <td>RP11-34P13.15</td>\n",
              "      <td>False</td>\n",
              "    </tr>\n",
              "    <tr>\n",
              "      <th>RP11-34P13.16</th>\n",
              "      <td>RP11-34P13.16</td>\n",
              "      <td>False</td>\n",
              "    </tr>\n",
              "    <tr>\n",
              "      <th>RP11-34P13.13</th>\n",
              "      <td>RP11-34P13.13</td>\n",
              "      <td>False</td>\n",
              "    </tr>\n",
              "    <tr>\n",
              "      <th>FO538757.2</th>\n",
              "      <td>FO538757.2</td>\n",
              "      <td>False</td>\n",
              "    </tr>\n",
              "  </tbody>\n",
              "</table>\n",
              "</div>\n",
              "    <div class=\"colab-df-buttons\">\n",
              "\n",
              "  <div class=\"colab-df-container\">\n",
              "    <button class=\"colab-df-convert\" onclick=\"convertToInteractive('df-586863cd-dc53-434e-ad81-3fdc33bb3dfa')\"\n",
              "            title=\"Convert this dataframe to an interactive table.\"\n",
              "            style=\"display:none;\">\n",
              "\n",
              "  <svg xmlns=\"http://www.w3.org/2000/svg\" height=\"24px\" viewBox=\"0 -960 960 960\">\n",
              "    <path d=\"M120-120v-720h720v720H120Zm60-500h600v-160H180v160Zm220 220h160v-160H400v160Zm0 220h160v-160H400v160ZM180-400h160v-160H180v160Zm440 0h160v-160H620v160ZM180-180h160v-160H180v160Zm440 0h160v-160H620v160Z\"/>\n",
              "  </svg>\n",
              "    </button>\n",
              "\n",
              "  <style>\n",
              "    .colab-df-container {\n",
              "      display:flex;\n",
              "      gap: 12px;\n",
              "    }\n",
              "\n",
              "    .colab-df-convert {\n",
              "      background-color: #E8F0FE;\n",
              "      border: none;\n",
              "      border-radius: 50%;\n",
              "      cursor: pointer;\n",
              "      display: none;\n",
              "      fill: #1967D2;\n",
              "      height: 32px;\n",
              "      padding: 0 0 0 0;\n",
              "      width: 32px;\n",
              "    }\n",
              "\n",
              "    .colab-df-convert:hover {\n",
              "      background-color: #E2EBFA;\n",
              "      box-shadow: 0px 1px 2px rgba(60, 64, 67, 0.3), 0px 1px 3px 1px rgba(60, 64, 67, 0.15);\n",
              "      fill: #174EA6;\n",
              "    }\n",
              "\n",
              "    .colab-df-buttons div {\n",
              "      margin-bottom: 4px;\n",
              "    }\n",
              "\n",
              "    [theme=dark] .colab-df-convert {\n",
              "      background-color: #3B4455;\n",
              "      fill: #D2E3FC;\n",
              "    }\n",
              "\n",
              "    [theme=dark] .colab-df-convert:hover {\n",
              "      background-color: #434B5C;\n",
              "      box-shadow: 0px 1px 3px 1px rgba(0, 0, 0, 0.15);\n",
              "      filter: drop-shadow(0px 1px 2px rgba(0, 0, 0, 0.3));\n",
              "      fill: #FFFFFF;\n",
              "    }\n",
              "  </style>\n",
              "\n",
              "    <script>\n",
              "      const buttonEl =\n",
              "        document.querySelector('#df-586863cd-dc53-434e-ad81-3fdc33bb3dfa button.colab-df-convert');\n",
              "      buttonEl.style.display =\n",
              "        google.colab.kernel.accessAllowed ? 'block' : 'none';\n",
              "\n",
              "      async function convertToInteractive(key) {\n",
              "        const element = document.querySelector('#df-586863cd-dc53-434e-ad81-3fdc33bb3dfa');\n",
              "        const dataTable =\n",
              "          await google.colab.kernel.invokeFunction('convertToInteractive',\n",
              "                                                    [key], {});\n",
              "        if (!dataTable) return;\n",
              "\n",
              "        const docLinkHtml = 'Like what you see? Visit the ' +\n",
              "          '<a target=\"_blank\" href=https://colab.research.google.com/notebooks/data_table.ipynb>data table notebook</a>'\n",
              "          + ' to learn more about interactive tables.';\n",
              "        element.innerHTML = '';\n",
              "        dataTable['output_type'] = 'display_data';\n",
              "        await google.colab.output.renderOutput(dataTable, element);\n",
              "        const docLink = document.createElement('div');\n",
              "        docLink.innerHTML = docLinkHtml;\n",
              "        element.appendChild(docLink);\n",
              "      }\n",
              "    </script>\n",
              "  </div>\n",
              "\n",
              "\n",
              "    <div id=\"df-a0f44fa9-ae86-4062-a556-701470bbd867\">\n",
              "      <button class=\"colab-df-quickchart\" onclick=\"quickchart('df-a0f44fa9-ae86-4062-a556-701470bbd867')\"\n",
              "                title=\"Suggest charts\"\n",
              "                style=\"display:none;\">\n",
              "\n",
              "<svg xmlns=\"http://www.w3.org/2000/svg\" height=\"24px\"viewBox=\"0 0 24 24\"\n",
              "     width=\"24px\">\n",
              "    <g>\n",
              "        <path d=\"M19 3H5c-1.1 0-2 .9-2 2v14c0 1.1.9 2 2 2h14c1.1 0 2-.9 2-2V5c0-1.1-.9-2-2-2zM9 17H7v-7h2v7zm4 0h-2V7h2v10zm4 0h-2v-4h2v4z\"/>\n",
              "    </g>\n",
              "</svg>\n",
              "      </button>\n",
              "\n",
              "<style>\n",
              "  .colab-df-quickchart {\n",
              "      --bg-color: #E8F0FE;\n",
              "      --fill-color: #1967D2;\n",
              "      --hover-bg-color: #E2EBFA;\n",
              "      --hover-fill-color: #174EA6;\n",
              "      --disabled-fill-color: #AAA;\n",
              "      --disabled-bg-color: #DDD;\n",
              "  }\n",
              "\n",
              "  [theme=dark] .colab-df-quickchart {\n",
              "      --bg-color: #3B4455;\n",
              "      --fill-color: #D2E3FC;\n",
              "      --hover-bg-color: #434B5C;\n",
              "      --hover-fill-color: #FFFFFF;\n",
              "      --disabled-bg-color: #3B4455;\n",
              "      --disabled-fill-color: #666;\n",
              "  }\n",
              "\n",
              "  .colab-df-quickchart {\n",
              "    background-color: var(--bg-color);\n",
              "    border: none;\n",
              "    border-radius: 50%;\n",
              "    cursor: pointer;\n",
              "    display: none;\n",
              "    fill: var(--fill-color);\n",
              "    height: 32px;\n",
              "    padding: 0;\n",
              "    width: 32px;\n",
              "  }\n",
              "\n",
              "  .colab-df-quickchart:hover {\n",
              "    background-color: var(--hover-bg-color);\n",
              "    box-shadow: 0 1px 2px rgba(60, 64, 67, 0.3), 0 1px 3px 1px rgba(60, 64, 67, 0.15);\n",
              "    fill: var(--button-hover-fill-color);\n",
              "  }\n",
              "\n",
              "  .colab-df-quickchart-complete:disabled,\n",
              "  .colab-df-quickchart-complete:disabled:hover {\n",
              "    background-color: var(--disabled-bg-color);\n",
              "    fill: var(--disabled-fill-color);\n",
              "    box-shadow: none;\n",
              "  }\n",
              "\n",
              "  .colab-df-spinner {\n",
              "    border: 2px solid var(--fill-color);\n",
              "    border-color: transparent;\n",
              "    border-bottom-color: var(--fill-color);\n",
              "    animation:\n",
              "      spin 1s steps(1) infinite;\n",
              "  }\n",
              "\n",
              "  @keyframes spin {\n",
              "    0% {\n",
              "      border-color: transparent;\n",
              "      border-bottom-color: var(--fill-color);\n",
              "      border-left-color: var(--fill-color);\n",
              "    }\n",
              "    20% {\n",
              "      border-color: transparent;\n",
              "      border-left-color: var(--fill-color);\n",
              "      border-top-color: var(--fill-color);\n",
              "    }\n",
              "    30% {\n",
              "      border-color: transparent;\n",
              "      border-left-color: var(--fill-color);\n",
              "      border-top-color: var(--fill-color);\n",
              "      border-right-color: var(--fill-color);\n",
              "    }\n",
              "    40% {\n",
              "      border-color: transparent;\n",
              "      border-right-color: var(--fill-color);\n",
              "      border-top-color: var(--fill-color);\n",
              "    }\n",
              "    60% {\n",
              "      border-color: transparent;\n",
              "      border-right-color: var(--fill-color);\n",
              "    }\n",
              "    80% {\n",
              "      border-color: transparent;\n",
              "      border-right-color: var(--fill-color);\n",
              "      border-bottom-color: var(--fill-color);\n",
              "    }\n",
              "    90% {\n",
              "      border-color: transparent;\n",
              "      border-bottom-color: var(--fill-color);\n",
              "    }\n",
              "  }\n",
              "</style>\n",
              "\n",
              "      <script>\n",
              "        async function quickchart(key) {\n",
              "          const quickchartButtonEl =\n",
              "            document.querySelector('#' + key + ' button');\n",
              "          quickchartButtonEl.disabled = true;  // To prevent multiple clicks.\n",
              "          quickchartButtonEl.classList.add('colab-df-spinner');\n",
              "          try {\n",
              "            const charts = await google.colab.kernel.invokeFunction(\n",
              "                'suggestCharts', [key], {});\n",
              "          } catch (error) {\n",
              "            console.error('Error during call to suggestCharts:', error);\n",
              "          }\n",
              "          quickchartButtonEl.classList.remove('colab-df-spinner');\n",
              "          quickchartButtonEl.classList.add('colab-df-quickchart-complete');\n",
              "        }\n",
              "        (() => {\n",
              "          let quickchartButtonEl =\n",
              "            document.querySelector('#df-a0f44fa9-ae86-4062-a556-701470bbd867 button');\n",
              "          quickchartButtonEl.style.display =\n",
              "            google.colab.kernel.accessAllowed ? 'block' : 'none';\n",
              "        })();\n",
              "      </script>\n",
              "    </div>\n",
              "\n",
              "    </div>\n",
              "  </div>\n"
            ],
            "application/vnd.google.colaboratory.intrinsic+json": {
              "type": "dataframe",
              "summary": "{\n  \"name\": \"adata\",\n  \"rows\": 5,\n  \"fields\": [\n    {\n      \"column\": \"gene_name\",\n      \"properties\": {\n        \"dtype\": \"string\",\n        \"num_unique_values\": 5,\n        \"samples\": [\n          \"RP11-34P13.15\",\n          \"FO538757.2\",\n          \"RP11-34P13.16\"\n        ],\n        \"semantic_type\": \"\",\n        \"description\": \"\"\n      }\n    },\n    {\n      \"column\": \"mito\",\n      \"properties\": {\n        \"dtype\": \"boolean\",\n        \"num_unique_values\": 1,\n        \"samples\": [\n          false\n        ],\n        \"semantic_type\": \"\",\n        \"description\": \"\"\n      }\n    }\n  ]\n}"
            }
          },
          "metadata": {},
          "execution_count": 20
        }
      ]
    },
    {
      "cell_type": "code",
      "source": [
        "# [🔺] pandas practice: select the var rows that correspond to mitochondrial genes.\n",
        "# How many mitochondrial genes are in this dataset?\n",
        "# Hint: adata.var is a dataframe and can be sliced as df[ condition based on a logical expression  ]\n",
        "# Hint2: slice the var dataframe where the column you created above is equal to True\n",
        "\n",
        "mito_counts = adata.var[adata.var['mito'] == True]\n",
        "mito_counts\n",
        "\n"
      ],
      "metadata": {
        "id": "lvUG30N0xojy",
        "outputId": "7dda3809-523d-4c91-e086-9190126d93ff",
        "colab": {
          "base_uri": "https://localhost:8080/",
          "height": 1000
        }
      },
      "execution_count": 54,
      "outputs": [
        {
          "output_type": "execute_result",
          "data": {
            "text/plain": [
              "        gene_name  mito  n_cells_by_counts  mean_counts  log1p_mean_counts  \\\n",
              "MT-RNR1   MT-RNR1  True               6056    14.872231           2.764571   \n",
              "MT-TV       MT-TV  True                 48     0.008268           0.008234   \n",
              "MT-RNR2   MT-RNR2  True               6303    35.544774           3.598538   \n",
              "MT-TL1     MT-TL1  True                 14     0.002184           0.002182   \n",
              "MT-ND1     MT-ND1  True               5171     4.027613           1.614945   \n",
              "MT-TM       MT-TM  True                 21     0.003276           0.003271   \n",
              "MT-ND2     MT-ND2  True               5204     4.060530           1.621471   \n",
              "MT-TC       MT-TC  True                 13     0.002028           0.002026   \n",
              "MT-CO1     MT-CO1  True               6244    28.677067           3.390375   \n",
              "MT-CO2     MT-CO2  True               6349    25.986427           3.295334   \n",
              "MT-ATP8   MT-ATP8  True               3645     1.241966           0.807353   \n",
              "MT-ATP6   MT-ATP6  True               5707     7.784711           2.173013   \n",
              "MT-CO3     MT-CO3  True               6139    12.972075           2.637061   \n",
              "MT-ND3     MT-ND3  True               5738     8.448518           2.245858   \n",
              "MT-ND4L   MT-ND4L  True               5705     7.790640           2.173687   \n",
              "MT-ND4     MT-ND4  True               5659     5.686427           1.900080   \n",
              "MT-ND5     MT-ND5  True               5424     4.767239           1.752193   \n",
              "MT-ND6     MT-ND6  True               2906     0.909516           0.646850   \n",
              "MT-CYB     MT-CYB  True               6128    12.876287           2.630181   \n",
              "MT-TP       MT-TP  True                157     0.025897           0.025567   \n",
              "MT-TY       MT-TY  True                  5     0.000780           0.000780   \n",
              "MT-TH       MT-TH  True                  5     0.000780           0.000780   \n",
              "\n",
              "         pct_dropout_by_counts  total_counts  log1p_total_counts  n_cells  \n",
              "MT-RNR1               5.522621       95331.0           11.465121     6056  \n",
              "MT-TV                99.251170          53.0            3.988984       48  \n",
              "MT-RNR2               1.669267      227842.0           12.336412     6303  \n",
              "MT-TL1               99.781591          14.0            2.708050       14  \n",
              "MT-ND1               19.329173       25817.0           10.158827     5171  \n",
              "MT-TM                99.672387          21.0            3.091042       21  \n",
              "MT-ND2               18.814353       26028.0           10.166967     5204  \n",
              "MT-TC                99.797192          13.0            2.639057       13  \n",
              "MT-CO1                2.589704      183820.0           12.121718     6244  \n",
              "MT-CO2                0.951638      166573.0           12.023195     6349  \n",
              "MT-ATP8              43.135725        7961.0            8.982436     3645  \n",
              "MT-ATP6              10.967239       49900.0           10.817796     5707  \n",
              "MT-CO3                4.227769       83151.0           11.328426     6139  \n",
              "MT-ND3               10.483619       54155.0           10.899624     5738  \n",
              "MT-ND4L              10.998440       49938.0           10.818558     5705  \n",
              "MT-ND4               11.716069       36450.0           10.503724     5659  \n",
              "MT-ND5               15.382215       30558.0           10.327415     5424  \n",
              "MT-ND6               54.664587        5830.0            8.670944     2906  \n",
              "MT-CYB                4.399376       82537.0           11.321014     6128  \n",
              "MT-TP                97.550702         166.0            5.117994      157  \n",
              "MT-TY                99.921997           5.0            1.791759        5  \n",
              "MT-TH                99.921997           5.0            1.791759        5  "
            ],
            "text/html": [
              "\n",
              "  <div id=\"df-e773da43-e28f-40ab-af81-12cf6671ac3e\" class=\"colab-df-container\">\n",
              "    <div>\n",
              "<style scoped>\n",
              "    .dataframe tbody tr th:only-of-type {\n",
              "        vertical-align: middle;\n",
              "    }\n",
              "\n",
              "    .dataframe tbody tr th {\n",
              "        vertical-align: top;\n",
              "    }\n",
              "\n",
              "    .dataframe thead th {\n",
              "        text-align: right;\n",
              "    }\n",
              "</style>\n",
              "<table border=\"1\" class=\"dataframe\">\n",
              "  <thead>\n",
              "    <tr style=\"text-align: right;\">\n",
              "      <th></th>\n",
              "      <th>gene_name</th>\n",
              "      <th>mito</th>\n",
              "      <th>n_cells_by_counts</th>\n",
              "      <th>mean_counts</th>\n",
              "      <th>log1p_mean_counts</th>\n",
              "      <th>pct_dropout_by_counts</th>\n",
              "      <th>total_counts</th>\n",
              "      <th>log1p_total_counts</th>\n",
              "      <th>n_cells</th>\n",
              "    </tr>\n",
              "  </thead>\n",
              "  <tbody>\n",
              "    <tr>\n",
              "      <th>MT-RNR1</th>\n",
              "      <td>MT-RNR1</td>\n",
              "      <td>True</td>\n",
              "      <td>6056</td>\n",
              "      <td>14.872231</td>\n",
              "      <td>2.764571</td>\n",
              "      <td>5.522621</td>\n",
              "      <td>95331.0</td>\n",
              "      <td>11.465121</td>\n",
              "      <td>6056</td>\n",
              "    </tr>\n",
              "    <tr>\n",
              "      <th>MT-TV</th>\n",
              "      <td>MT-TV</td>\n",
              "      <td>True</td>\n",
              "      <td>48</td>\n",
              "      <td>0.008268</td>\n",
              "      <td>0.008234</td>\n",
              "      <td>99.251170</td>\n",
              "      <td>53.0</td>\n",
              "      <td>3.988984</td>\n",
              "      <td>48</td>\n",
              "    </tr>\n",
              "    <tr>\n",
              "      <th>MT-RNR2</th>\n",
              "      <td>MT-RNR2</td>\n",
              "      <td>True</td>\n",
              "      <td>6303</td>\n",
              "      <td>35.544774</td>\n",
              "      <td>3.598538</td>\n",
              "      <td>1.669267</td>\n",
              "      <td>227842.0</td>\n",
              "      <td>12.336412</td>\n",
              "      <td>6303</td>\n",
              "    </tr>\n",
              "    <tr>\n",
              "      <th>MT-TL1</th>\n",
              "      <td>MT-TL1</td>\n",
              "      <td>True</td>\n",
              "      <td>14</td>\n",
              "      <td>0.002184</td>\n",
              "      <td>0.002182</td>\n",
              "      <td>99.781591</td>\n",
              "      <td>14.0</td>\n",
              "      <td>2.708050</td>\n",
              "      <td>14</td>\n",
              "    </tr>\n",
              "    <tr>\n",
              "      <th>MT-ND1</th>\n",
              "      <td>MT-ND1</td>\n",
              "      <td>True</td>\n",
              "      <td>5171</td>\n",
              "      <td>4.027613</td>\n",
              "      <td>1.614945</td>\n",
              "      <td>19.329173</td>\n",
              "      <td>25817.0</td>\n",
              "      <td>10.158827</td>\n",
              "      <td>5171</td>\n",
              "    </tr>\n",
              "    <tr>\n",
              "      <th>MT-TM</th>\n",
              "      <td>MT-TM</td>\n",
              "      <td>True</td>\n",
              "      <td>21</td>\n",
              "      <td>0.003276</td>\n",
              "      <td>0.003271</td>\n",
              "      <td>99.672387</td>\n",
              "      <td>21.0</td>\n",
              "      <td>3.091042</td>\n",
              "      <td>21</td>\n",
              "    </tr>\n",
              "    <tr>\n",
              "      <th>MT-ND2</th>\n",
              "      <td>MT-ND2</td>\n",
              "      <td>True</td>\n",
              "      <td>5204</td>\n",
              "      <td>4.060530</td>\n",
              "      <td>1.621471</td>\n",
              "      <td>18.814353</td>\n",
              "      <td>26028.0</td>\n",
              "      <td>10.166967</td>\n",
              "      <td>5204</td>\n",
              "    </tr>\n",
              "    <tr>\n",
              "      <th>MT-TC</th>\n",
              "      <td>MT-TC</td>\n",
              "      <td>True</td>\n",
              "      <td>13</td>\n",
              "      <td>0.002028</td>\n",
              "      <td>0.002026</td>\n",
              "      <td>99.797192</td>\n",
              "      <td>13.0</td>\n",
              "      <td>2.639057</td>\n",
              "      <td>13</td>\n",
              "    </tr>\n",
              "    <tr>\n",
              "      <th>MT-CO1</th>\n",
              "      <td>MT-CO1</td>\n",
              "      <td>True</td>\n",
              "      <td>6244</td>\n",
              "      <td>28.677067</td>\n",
              "      <td>3.390375</td>\n",
              "      <td>2.589704</td>\n",
              "      <td>183820.0</td>\n",
              "      <td>12.121718</td>\n",
              "      <td>6244</td>\n",
              "    </tr>\n",
              "    <tr>\n",
              "      <th>MT-CO2</th>\n",
              "      <td>MT-CO2</td>\n",
              "      <td>True</td>\n",
              "      <td>6349</td>\n",
              "      <td>25.986427</td>\n",
              "      <td>3.295334</td>\n",
              "      <td>0.951638</td>\n",
              "      <td>166573.0</td>\n",
              "      <td>12.023195</td>\n",
              "      <td>6349</td>\n",
              "    </tr>\n",
              "    <tr>\n",
              "      <th>MT-ATP8</th>\n",
              "      <td>MT-ATP8</td>\n",
              "      <td>True</td>\n",
              "      <td>3645</td>\n",
              "      <td>1.241966</td>\n",
              "      <td>0.807353</td>\n",
              "      <td>43.135725</td>\n",
              "      <td>7961.0</td>\n",
              "      <td>8.982436</td>\n",
              "      <td>3645</td>\n",
              "    </tr>\n",
              "    <tr>\n",
              "      <th>MT-ATP6</th>\n",
              "      <td>MT-ATP6</td>\n",
              "      <td>True</td>\n",
              "      <td>5707</td>\n",
              "      <td>7.784711</td>\n",
              "      <td>2.173013</td>\n",
              "      <td>10.967239</td>\n",
              "      <td>49900.0</td>\n",
              "      <td>10.817796</td>\n",
              "      <td>5707</td>\n",
              "    </tr>\n",
              "    <tr>\n",
              "      <th>MT-CO3</th>\n",
              "      <td>MT-CO3</td>\n",
              "      <td>True</td>\n",
              "      <td>6139</td>\n",
              "      <td>12.972075</td>\n",
              "      <td>2.637061</td>\n",
              "      <td>4.227769</td>\n",
              "      <td>83151.0</td>\n",
              "      <td>11.328426</td>\n",
              "      <td>6139</td>\n",
              "    </tr>\n",
              "    <tr>\n",
              "      <th>MT-ND3</th>\n",
              "      <td>MT-ND3</td>\n",
              "      <td>True</td>\n",
              "      <td>5738</td>\n",
              "      <td>8.448518</td>\n",
              "      <td>2.245858</td>\n",
              "      <td>10.483619</td>\n",
              "      <td>54155.0</td>\n",
              "      <td>10.899624</td>\n",
              "      <td>5738</td>\n",
              "    </tr>\n",
              "    <tr>\n",
              "      <th>MT-ND4L</th>\n",
              "      <td>MT-ND4L</td>\n",
              "      <td>True</td>\n",
              "      <td>5705</td>\n",
              "      <td>7.790640</td>\n",
              "      <td>2.173687</td>\n",
              "      <td>10.998440</td>\n",
              "      <td>49938.0</td>\n",
              "      <td>10.818558</td>\n",
              "      <td>5705</td>\n",
              "    </tr>\n",
              "    <tr>\n",
              "      <th>MT-ND4</th>\n",
              "      <td>MT-ND4</td>\n",
              "      <td>True</td>\n",
              "      <td>5659</td>\n",
              "      <td>5.686427</td>\n",
              "      <td>1.900080</td>\n",
              "      <td>11.716069</td>\n",
              "      <td>36450.0</td>\n",
              "      <td>10.503724</td>\n",
              "      <td>5659</td>\n",
              "    </tr>\n",
              "    <tr>\n",
              "      <th>MT-ND5</th>\n",
              "      <td>MT-ND5</td>\n",
              "      <td>True</td>\n",
              "      <td>5424</td>\n",
              "      <td>4.767239</td>\n",
              "      <td>1.752193</td>\n",
              "      <td>15.382215</td>\n",
              "      <td>30558.0</td>\n",
              "      <td>10.327415</td>\n",
              "      <td>5424</td>\n",
              "    </tr>\n",
              "    <tr>\n",
              "      <th>MT-ND6</th>\n",
              "      <td>MT-ND6</td>\n",
              "      <td>True</td>\n",
              "      <td>2906</td>\n",
              "      <td>0.909516</td>\n",
              "      <td>0.646850</td>\n",
              "      <td>54.664587</td>\n",
              "      <td>5830.0</td>\n",
              "      <td>8.670944</td>\n",
              "      <td>2906</td>\n",
              "    </tr>\n",
              "    <tr>\n",
              "      <th>MT-CYB</th>\n",
              "      <td>MT-CYB</td>\n",
              "      <td>True</td>\n",
              "      <td>6128</td>\n",
              "      <td>12.876287</td>\n",
              "      <td>2.630181</td>\n",
              "      <td>4.399376</td>\n",
              "      <td>82537.0</td>\n",
              "      <td>11.321014</td>\n",
              "      <td>6128</td>\n",
              "    </tr>\n",
              "    <tr>\n",
              "      <th>MT-TP</th>\n",
              "      <td>MT-TP</td>\n",
              "      <td>True</td>\n",
              "      <td>157</td>\n",
              "      <td>0.025897</td>\n",
              "      <td>0.025567</td>\n",
              "      <td>97.550702</td>\n",
              "      <td>166.0</td>\n",
              "      <td>5.117994</td>\n",
              "      <td>157</td>\n",
              "    </tr>\n",
              "    <tr>\n",
              "      <th>MT-TY</th>\n",
              "      <td>MT-TY</td>\n",
              "      <td>True</td>\n",
              "      <td>5</td>\n",
              "      <td>0.000780</td>\n",
              "      <td>0.000780</td>\n",
              "      <td>99.921997</td>\n",
              "      <td>5.0</td>\n",
              "      <td>1.791759</td>\n",
              "      <td>5</td>\n",
              "    </tr>\n",
              "    <tr>\n",
              "      <th>MT-TH</th>\n",
              "      <td>MT-TH</td>\n",
              "      <td>True</td>\n",
              "      <td>5</td>\n",
              "      <td>0.000780</td>\n",
              "      <td>0.000780</td>\n",
              "      <td>99.921997</td>\n",
              "      <td>5.0</td>\n",
              "      <td>1.791759</td>\n",
              "      <td>5</td>\n",
              "    </tr>\n",
              "  </tbody>\n",
              "</table>\n",
              "</div>\n",
              "    <div class=\"colab-df-buttons\">\n",
              "\n",
              "  <div class=\"colab-df-container\">\n",
              "    <button class=\"colab-df-convert\" onclick=\"convertToInteractive('df-e773da43-e28f-40ab-af81-12cf6671ac3e')\"\n",
              "            title=\"Convert this dataframe to an interactive table.\"\n",
              "            style=\"display:none;\">\n",
              "\n",
              "  <svg xmlns=\"http://www.w3.org/2000/svg\" height=\"24px\" viewBox=\"0 -960 960 960\">\n",
              "    <path d=\"M120-120v-720h720v720H120Zm60-500h600v-160H180v160Zm220 220h160v-160H400v160Zm0 220h160v-160H400v160ZM180-400h160v-160H180v160Zm440 0h160v-160H620v160ZM180-180h160v-160H180v160Zm440 0h160v-160H620v160Z\"/>\n",
              "  </svg>\n",
              "    </button>\n",
              "\n",
              "  <style>\n",
              "    .colab-df-container {\n",
              "      display:flex;\n",
              "      gap: 12px;\n",
              "    }\n",
              "\n",
              "    .colab-df-convert {\n",
              "      background-color: #E8F0FE;\n",
              "      border: none;\n",
              "      border-radius: 50%;\n",
              "      cursor: pointer;\n",
              "      display: none;\n",
              "      fill: #1967D2;\n",
              "      height: 32px;\n",
              "      padding: 0 0 0 0;\n",
              "      width: 32px;\n",
              "    }\n",
              "\n",
              "    .colab-df-convert:hover {\n",
              "      background-color: #E2EBFA;\n",
              "      box-shadow: 0px 1px 2px rgba(60, 64, 67, 0.3), 0px 1px 3px 1px rgba(60, 64, 67, 0.15);\n",
              "      fill: #174EA6;\n",
              "    }\n",
              "\n",
              "    .colab-df-buttons div {\n",
              "      margin-bottom: 4px;\n",
              "    }\n",
              "\n",
              "    [theme=dark] .colab-df-convert {\n",
              "      background-color: #3B4455;\n",
              "      fill: #D2E3FC;\n",
              "    }\n",
              "\n",
              "    [theme=dark] .colab-df-convert:hover {\n",
              "      background-color: #434B5C;\n",
              "      box-shadow: 0px 1px 3px 1px rgba(0, 0, 0, 0.15);\n",
              "      filter: drop-shadow(0px 1px 2px rgba(0, 0, 0, 0.3));\n",
              "      fill: #FFFFFF;\n",
              "    }\n",
              "  </style>\n",
              "\n",
              "    <script>\n",
              "      const buttonEl =\n",
              "        document.querySelector('#df-e773da43-e28f-40ab-af81-12cf6671ac3e button.colab-df-convert');\n",
              "      buttonEl.style.display =\n",
              "        google.colab.kernel.accessAllowed ? 'block' : 'none';\n",
              "\n",
              "      async function convertToInteractive(key) {\n",
              "        const element = document.querySelector('#df-e773da43-e28f-40ab-af81-12cf6671ac3e');\n",
              "        const dataTable =\n",
              "          await google.colab.kernel.invokeFunction('convertToInteractive',\n",
              "                                                    [key], {});\n",
              "        if (!dataTable) return;\n",
              "\n",
              "        const docLinkHtml = 'Like what you see? Visit the ' +\n",
              "          '<a target=\"_blank\" href=https://colab.research.google.com/notebooks/data_table.ipynb>data table notebook</a>'\n",
              "          + ' to learn more about interactive tables.';\n",
              "        element.innerHTML = '';\n",
              "        dataTable['output_type'] = 'display_data';\n",
              "        await google.colab.output.renderOutput(dataTable, element);\n",
              "        const docLink = document.createElement('div');\n",
              "        docLink.innerHTML = docLinkHtml;\n",
              "        element.appendChild(docLink);\n",
              "      }\n",
              "    </script>\n",
              "  </div>\n",
              "\n",
              "\n",
              "    <div id=\"df-c72517ed-9e6d-4126-9b01-3c80325cbc9f\">\n",
              "      <button class=\"colab-df-quickchart\" onclick=\"quickchart('df-c72517ed-9e6d-4126-9b01-3c80325cbc9f')\"\n",
              "                title=\"Suggest charts\"\n",
              "                style=\"display:none;\">\n",
              "\n",
              "<svg xmlns=\"http://www.w3.org/2000/svg\" height=\"24px\"viewBox=\"0 0 24 24\"\n",
              "     width=\"24px\">\n",
              "    <g>\n",
              "        <path d=\"M19 3H5c-1.1 0-2 .9-2 2v14c0 1.1.9 2 2 2h14c1.1 0 2-.9 2-2V5c0-1.1-.9-2-2-2zM9 17H7v-7h2v7zm4 0h-2V7h2v10zm4 0h-2v-4h2v4z\"/>\n",
              "    </g>\n",
              "</svg>\n",
              "      </button>\n",
              "\n",
              "<style>\n",
              "  .colab-df-quickchart {\n",
              "      --bg-color: #E8F0FE;\n",
              "      --fill-color: #1967D2;\n",
              "      --hover-bg-color: #E2EBFA;\n",
              "      --hover-fill-color: #174EA6;\n",
              "      --disabled-fill-color: #AAA;\n",
              "      --disabled-bg-color: #DDD;\n",
              "  }\n",
              "\n",
              "  [theme=dark] .colab-df-quickchart {\n",
              "      --bg-color: #3B4455;\n",
              "      --fill-color: #D2E3FC;\n",
              "      --hover-bg-color: #434B5C;\n",
              "      --hover-fill-color: #FFFFFF;\n",
              "      --disabled-bg-color: #3B4455;\n",
              "      --disabled-fill-color: #666;\n",
              "  }\n",
              "\n",
              "  .colab-df-quickchart {\n",
              "    background-color: var(--bg-color);\n",
              "    border: none;\n",
              "    border-radius: 50%;\n",
              "    cursor: pointer;\n",
              "    display: none;\n",
              "    fill: var(--fill-color);\n",
              "    height: 32px;\n",
              "    padding: 0;\n",
              "    width: 32px;\n",
              "  }\n",
              "\n",
              "  .colab-df-quickchart:hover {\n",
              "    background-color: var(--hover-bg-color);\n",
              "    box-shadow: 0 1px 2px rgba(60, 64, 67, 0.3), 0 1px 3px 1px rgba(60, 64, 67, 0.15);\n",
              "    fill: var(--button-hover-fill-color);\n",
              "  }\n",
              "\n",
              "  .colab-df-quickchart-complete:disabled,\n",
              "  .colab-df-quickchart-complete:disabled:hover {\n",
              "    background-color: var(--disabled-bg-color);\n",
              "    fill: var(--disabled-fill-color);\n",
              "    box-shadow: none;\n",
              "  }\n",
              "\n",
              "  .colab-df-spinner {\n",
              "    border: 2px solid var(--fill-color);\n",
              "    border-color: transparent;\n",
              "    border-bottom-color: var(--fill-color);\n",
              "    animation:\n",
              "      spin 1s steps(1) infinite;\n",
              "  }\n",
              "\n",
              "  @keyframes spin {\n",
              "    0% {\n",
              "      border-color: transparent;\n",
              "      border-bottom-color: var(--fill-color);\n",
              "      border-left-color: var(--fill-color);\n",
              "    }\n",
              "    20% {\n",
              "      border-color: transparent;\n",
              "      border-left-color: var(--fill-color);\n",
              "      border-top-color: var(--fill-color);\n",
              "    }\n",
              "    30% {\n",
              "      border-color: transparent;\n",
              "      border-left-color: var(--fill-color);\n",
              "      border-top-color: var(--fill-color);\n",
              "      border-right-color: var(--fill-color);\n",
              "    }\n",
              "    40% {\n",
              "      border-color: transparent;\n",
              "      border-right-color: var(--fill-color);\n",
              "      border-top-color: var(--fill-color);\n",
              "    }\n",
              "    60% {\n",
              "      border-color: transparent;\n",
              "      border-right-color: var(--fill-color);\n",
              "    }\n",
              "    80% {\n",
              "      border-color: transparent;\n",
              "      border-right-color: var(--fill-color);\n",
              "      border-bottom-color: var(--fill-color);\n",
              "    }\n",
              "    90% {\n",
              "      border-color: transparent;\n",
              "      border-bottom-color: var(--fill-color);\n",
              "    }\n",
              "  }\n",
              "</style>\n",
              "\n",
              "      <script>\n",
              "        async function quickchart(key) {\n",
              "          const quickchartButtonEl =\n",
              "            document.querySelector('#' + key + ' button');\n",
              "          quickchartButtonEl.disabled = true;  // To prevent multiple clicks.\n",
              "          quickchartButtonEl.classList.add('colab-df-spinner');\n",
              "          try {\n",
              "            const charts = await google.colab.kernel.invokeFunction(\n",
              "                'suggestCharts', [key], {});\n",
              "          } catch (error) {\n",
              "            console.error('Error during call to suggestCharts:', error);\n",
              "          }\n",
              "          quickchartButtonEl.classList.remove('colab-df-spinner');\n",
              "          quickchartButtonEl.classList.add('colab-df-quickchart-complete');\n",
              "        }\n",
              "        (() => {\n",
              "          let quickchartButtonEl =\n",
              "            document.querySelector('#df-c72517ed-9e6d-4126-9b01-3c80325cbc9f button');\n",
              "          quickchartButtonEl.style.display =\n",
              "            google.colab.kernel.accessAllowed ? 'block' : 'none';\n",
              "        })();\n",
              "      </script>\n",
              "    </div>\n",
              "\n",
              "  <div id=\"id_ea9bf8d5-b8f1-4992-bd17-4f26bd5311ec\">\n",
              "    <style>\n",
              "      .colab-df-generate {\n",
              "        background-color: #E8F0FE;\n",
              "        border: none;\n",
              "        border-radius: 50%;\n",
              "        cursor: pointer;\n",
              "        display: none;\n",
              "        fill: #1967D2;\n",
              "        height: 32px;\n",
              "        padding: 0 0 0 0;\n",
              "        width: 32px;\n",
              "      }\n",
              "\n",
              "      .colab-df-generate:hover {\n",
              "        background-color: #E2EBFA;\n",
              "        box-shadow: 0px 1px 2px rgba(60, 64, 67, 0.3), 0px 1px 3px 1px rgba(60, 64, 67, 0.15);\n",
              "        fill: #174EA6;\n",
              "      }\n",
              "\n",
              "      [theme=dark] .colab-df-generate {\n",
              "        background-color: #3B4455;\n",
              "        fill: #D2E3FC;\n",
              "      }\n",
              "\n",
              "      [theme=dark] .colab-df-generate:hover {\n",
              "        background-color: #434B5C;\n",
              "        box-shadow: 0px 1px 3px 1px rgba(0, 0, 0, 0.15);\n",
              "        filter: drop-shadow(0px 1px 2px rgba(0, 0, 0, 0.3));\n",
              "        fill: #FFFFFF;\n",
              "      }\n",
              "    </style>\n",
              "    <button class=\"colab-df-generate\" onclick=\"generateWithVariable('mito_counts')\"\n",
              "            title=\"Generate code using this dataframe.\"\n",
              "            style=\"display:none;\">\n",
              "\n",
              "  <svg xmlns=\"http://www.w3.org/2000/svg\" height=\"24px\"viewBox=\"0 0 24 24\"\n",
              "       width=\"24px\">\n",
              "    <path d=\"M7,19H8.4L18.45,9,17,7.55,7,17.6ZM5,21V16.75L18.45,3.32a2,2,0,0,1,2.83,0l1.4,1.43a1.91,1.91,0,0,1,.58,1.4,1.91,1.91,0,0,1-.58,1.4L9.25,21ZM18.45,9,17,7.55Zm-12,3A5.31,5.31,0,0,0,4.9,8.1,5.31,5.31,0,0,0,1,6.5,5.31,5.31,0,0,0,4.9,4.9,5.31,5.31,0,0,0,6.5,1,5.31,5.31,0,0,0,8.1,4.9,5.31,5.31,0,0,0,12,6.5,5.46,5.46,0,0,0,6.5,12Z\"/>\n",
              "  </svg>\n",
              "    </button>\n",
              "    <script>\n",
              "      (() => {\n",
              "      const buttonEl =\n",
              "        document.querySelector('#id_ea9bf8d5-b8f1-4992-bd17-4f26bd5311ec button.colab-df-generate');\n",
              "      buttonEl.style.display =\n",
              "        google.colab.kernel.accessAllowed ? 'block' : 'none';\n",
              "\n",
              "      buttonEl.onclick = () => {\n",
              "        google.colab.notebook.generateWithVariable('mito_counts');\n",
              "      }\n",
              "      })();\n",
              "    </script>\n",
              "  </div>\n",
              "\n",
              "    </div>\n",
              "  </div>\n"
            ],
            "application/vnd.google.colaboratory.intrinsic+json": {
              "type": "dataframe",
              "variable_name": "mito_counts",
              "summary": "{\n  \"name\": \"mito_counts\",\n  \"rows\": 22,\n  \"fields\": [\n    {\n      \"column\": \"gene_name\",\n      \"properties\": {\n        \"dtype\": \"string\",\n        \"num_unique_values\": 22,\n        \"samples\": [\n          \"MT-RNR1\",\n          \"MT-ND3\",\n          \"MT-CO1\"\n        ],\n        \"semantic_type\": \"\",\n        \"description\": \"\"\n      }\n    },\n    {\n      \"column\": \"mito\",\n      \"properties\": {\n        \"dtype\": \"boolean\",\n        \"num_unique_values\": 1,\n        \"samples\": [\n          true\n        ],\n        \"semantic_type\": \"\",\n        \"description\": \"\"\n      }\n    },\n    {\n      \"column\": \"n_cells_by_counts\",\n      \"properties\": {\n        \"dtype\": \"number\",\n        \"std\": 2721,\n        \"min\": 5,\n        \"max\": 6349,\n        \"num_unique_values\": 21,\n        \"samples\": [\n          6056\n        ],\n        \"semantic_type\": \"\",\n        \"description\": \"\"\n      }\n    },\n    {\n      \"column\": \"mean_counts\",\n      \"properties\": {\n        \"dtype\": \"number\",\n        \"std\": 10.226341867592236,\n        \"min\": 0.00078003120124805,\n        \"max\": 35.54477379095164,\n        \"num_unique_values\": 21,\n        \"samples\": [\n          14.872230889235569\n        ],\n        \"semantic_type\": \"\",\n        \"description\": \"\"\n      }\n    },\n    {\n      \"column\": \"log1p_mean_counts\",\n      \"properties\": {\n        \"dtype\": \"number\",\n        \"std\": 1.2707442124601187,\n        \"min\": 0.0007797271350210785,\n        \"max\": 3.5985381880363785,\n        \"num_unique_values\": 21,\n        \"samples\": [\n          2.764571097389557\n        ],\n        \"semantic_type\": \"\",\n        \"description\": \"\"\n      }\n    },\n    {\n      \"column\": \"pct_dropout_by_counts\",\n      \"properties\": {\n        \"dtype\": \"number\",\n        \"std\": 42.46172187410859,\n        \"min\": 0.9516380655226198,\n        \"max\": 99.9219968798752,\n        \"num_unique_values\": 21,\n        \"samples\": [\n          5.522620904836195\n        ],\n        \"semantic_type\": \"\",\n        \"description\": \"\"\n      }\n    },\n    {\n      \"column\": \"total_counts\",\n      \"properties\": {\n        \"dtype\": \"number\",\n        \"std\": 65550.85137126624,\n        \"min\": 5.0,\n        \"max\": 227842.0,\n        \"num_unique_values\": 21,\n        \"samples\": [\n          95331.0\n        ],\n        \"semantic_type\": \"\",\n        \"description\": \"\"\n      }\n    },\n    {\n      \"column\": \"log1p_total_counts\",\n      \"properties\": {\n        \"dtype\": \"number\",\n        \"std\": 3.8599985250728657,\n        \"min\": 1.791759469228055,\n        \"max\": 12.336412074253893,\n        \"num_unique_values\": 21,\n        \"samples\": [\n          11.46512081502209\n        ],\n        \"semantic_type\": \"\",\n        \"description\": \"\"\n      }\n    },\n    {\n      \"column\": \"n_cells\",\n      \"properties\": {\n        \"dtype\": \"number\",\n        \"std\": 2721,\n        \"min\": 5,\n        \"max\": 6349,\n        \"num_unique_values\": 21,\n        \"samples\": [\n          6056\n        ],\n        \"semantic_type\": \"\",\n        \"description\": \"\"\n      }\n    }\n  ]\n}"
            }
          },
          "metadata": {},
          "execution_count": 54
        }
      ]
    },
    {
      "cell_type": "code",
      "source": [
        "# [🔹] for practice you can also add a column that indicates whether a gene is ribosomal\n",
        "# ribosomal genes start with \"RP\" for human, \"Rp\" for mouse\n",
        "\n",
        "\n",
        "\n",
        "\n",
        "\n"
      ],
      "metadata": {
        "id": "Joov_nevuDki"
      },
      "execution_count": null,
      "outputs": []
    },
    {
      "cell_type": "markdown",
      "source": [
        "### Calculate QC metrics"
      ],
      "metadata": {
        "id": "wQh4qd5Ox57_"
      }
    },
    {
      "cell_type": "code",
      "source": [
        "adata # lets remind ourseleves about adata, the following command will add a lot of information"
      ],
      "metadata": {
        "id": "dlyMXNxnzBgg",
        "outputId": "721e4b69-262c-4e8d-85ba-abffcc75c29a",
        "colab": {
          "base_uri": "https://localhost:8080/"
        }
      },
      "execution_count": 24,
      "outputs": [
        {
          "output_type": "execute_result",
          "data": {
            "text/plain": [
              "AnnData object with n_obs × n_vars = 6410 × 22741\n",
              "    obs: 'LIBRARY_ID', 'patient_id', 'condition'\n",
              "    var: 'gene_name', 'mito'"
            ]
          },
          "metadata": {},
          "execution_count": 24
        }
      ]
    },
    {
      "cell_type": "code",
      "source": [
        "######################################################\n",
        "# [🔺]use the sc.pp.calculate_qc_metrics() function to calculate qc metrics\n",
        "# replace '????' with the column that indicated mitochondrial genes so that we also compute “% of counts in genes marked as mitochondrial”\n",
        "# inplace=True --> updates the adata dataframe in place (adding all the qc columns)\n",
        "# log1p=True --> calculates log1p tranformed versions (e.g., mean of logarithmized counts)\n",
        "\n",
        "sc.pp.calculate_qc_metrics(adata, qc_vars=['mito'], inplace=True, log1p=True)\n"
      ],
      "metadata": {
        "id": "EwJL4xumuDej"
      },
      "execution_count": 26,
      "outputs": []
    },
    {
      "cell_type": "code",
      "source": [
        "adata"
      ],
      "metadata": {
        "id": "aPbkoVhwyd0l",
        "outputId": "b5dcb54e-5927-4e39-ce20-773038db7287",
        "colab": {
          "base_uri": "https://localhost:8080/"
        }
      },
      "execution_count": 27,
      "outputs": [
        {
          "output_type": "execute_result",
          "data": {
            "text/plain": [
              "AnnData object with n_obs × n_vars = 6410 × 22741\n",
              "    obs: 'LIBRARY_ID', 'patient_id', 'condition', 'n_genes_by_counts', 'log1p_n_genes_by_counts', 'total_counts', 'log1p_total_counts', 'pct_counts_in_top_50_genes', 'pct_counts_in_top_100_genes', 'pct_counts_in_top_200_genes', 'pct_counts_in_top_500_genes', 'total_counts_mito', 'log1p_total_counts_mito', 'pct_counts_mito'\n",
              "    var: 'gene_name', 'mito', 'n_cells_by_counts', 'mean_counts', 'log1p_mean_counts', 'pct_dropout_by_counts', 'total_counts', 'log1p_total_counts'"
            ]
          },
          "metadata": {},
          "execution_count": 27
        }
      ]
    },
    {
      "cell_type": "markdown",
      "source": [
        "### Filter genes"
      ],
      "metadata": {
        "id": "-hHsjVDb3Gpp"
      }
    },
    {
      "cell_type": "code",
      "source": [
        "######################################################\n",
        "# [🔺]filter genes that are expressed in fewer than 5 cells\n",
        "\n",
        "sc.pp.filter_genes(adata, min_cells=5)\n"
      ],
      "metadata": {
        "id": "p0lZh6zt1SPi"
      },
      "execution_count": 28,
      "outputs": []
    },
    {
      "cell_type": "code",
      "source": [
        "adata # notice that the number of genes decreased"
      ],
      "metadata": {
        "id": "fSkDA-uj27Ib",
        "outputId": "a27bef9a-eca4-422a-bb74-dc9d62e81b8d",
        "colab": {
          "base_uri": "https://localhost:8080/"
        }
      },
      "execution_count": 29,
      "outputs": [
        {
          "output_type": "execute_result",
          "data": {
            "text/plain": [
              "AnnData object with n_obs × n_vars = 6410 × 17473\n",
              "    obs: 'LIBRARY_ID', 'patient_id', 'condition', 'n_genes_by_counts', 'log1p_n_genes_by_counts', 'total_counts', 'log1p_total_counts', 'pct_counts_in_top_50_genes', 'pct_counts_in_top_100_genes', 'pct_counts_in_top_200_genes', 'pct_counts_in_top_500_genes', 'total_counts_mito', 'log1p_total_counts_mito', 'pct_counts_mito'\n",
              "    var: 'gene_name', 'mito', 'n_cells_by_counts', 'mean_counts', 'log1p_mean_counts', 'pct_dropout_by_counts', 'total_counts', 'log1p_total_counts', 'n_cells'"
            ]
          },
          "metadata": {},
          "execution_count": 29
        }
      ]
    },
    {
      "cell_type": "markdown",
      "source": [
        "### Visualize QC metrics (cells)"
      ],
      "metadata": {
        "id": "aNbzzJVA3Xy0"
      }
    },
    {
      "cell_type": "code",
      "source": [
        "sc.pl.violin(\n",
        "    adata,\n",
        "    keys = [\"log1p_n_genes_by_counts\", \"log1p_total_counts\", \"pct_counts_mito\"],\n",
        "    jitter=0.1,\n",
        "    multi_panel=True,\n",
        "    size=1\n",
        ")"
      ],
      "metadata": {
        "id": "W1JNKn1U3dlu",
        "outputId": "35ced2fe-651b-46cf-c18c-0a7d0c3239ee",
        "colab": {
          "base_uri": "https://localhost:8080/",
          "height": 348
        }
      },
      "execution_count": 32,
      "outputs": [
        {
          "output_type": "display_data",
          "data": {
            "text/plain": [
              "<Figure size 1511.11x500 with 3 Axes>"
            ],
            "image/png": "[encoded data removed]"
          },
          "metadata": {}
        }
      ]
    },
    {
      "cell_type": "code",
      "source": [
        "sc.pl.scatter(adata, \"log1p_total_counts\", \"pct_counts_mito\", color=\"log1p_n_genes_by_counts\",size=50)"
      ],
      "metadata": {
        "id": "F7PPyQRg3xKB",
        "outputId": "67d6e96e-972e-43d2-d82e-3092487cf297",
        "colab": {
          "base_uri": "https://localhost:8080/",
          "height": 509
        }
      },
      "execution_count": 34,
      "outputs": [
        {
          "output_type": "stream",
          "name": "stderr",
          "text": [
            "/usr/local/lib/python3.12/dist-packages/scanpy/plotting/_anndata.py:397: FutureWarning: Use obs (e.g. `k in adata.obs` or `str(adata.obs.columns.tolist())`) instead of AnnData.obs_keys, AnnData.obs_keys is deprecated and will be removed in the future.\n",
            "  if key in adata.obs_keys():\n"
          ]
        },
        {
          "output_type": "display_data",
          "data": {
            "text/plain": [
              "<Figure size 810.02x480 with 2 Axes>"
            ],
            "image/png": "[encoded data removed]"
          },
          "metadata": {}
        }
      ]
    },
    {
      "cell_type": "markdown",
      "source": [
        "### Filter cells"
      ],
      "metadata": {
        "id": "EDJn1UdK5Mdq"
      }
    },
    {
      "cell_type": "code",
      "source": [
        "# [🔺] pandas practice: How many cells have log1p_total_counts above 8?\n",
        "\n",
        "cells_above = adata.obs['log1p_total_counts'] > 8\n",
        "cells_above.sum()\n",
        "\n",
        "\n"
      ],
      "metadata": {
        "id": "VtXWg2n2haeW",
        "outputId": "9965593f-64a4-42e0-f7b1-19f38e41d4a6",
        "colab": {
          "base_uri": "https://localhost:8080/"
        }
      },
      "execution_count": 41,
      "outputs": [
        {
          "output_type": "execute_result",
          "data": {
            "text/plain": [
              "np.int64(1946)"
            ]
          },
          "metadata": {},
          "execution_count": 41
        }
      ]
    },
    {
      "cell_type": "code",
      "source": [
        "##################################################\n",
        "# [🔺] filter out cells by choosing QC thresholds for 'log1p_total_counts' and 'pct_counts_mt' based on the above plots\n",
        "# ok to be lenient we can revisit this after clustering.\n",
        "# Hint: AnnData can be sliced as a dataframe based on a condition (logical expression). E.g., df[df['age']>20]\n",
        "# for AnnData the condition can be computed based on the obs dataframe: e.g., adata[ obs dataframe column is greater than 5 ]\n",
        "# After slicing adata, don't forget to save the output back to adata: e.g. as we update a df variable df=df[df['age']>20].\n",
        "adata.obs['cells_filter'] = ((adata.obs['log1p_total_counts'] > 6) & (adata.obs['log1p_total_counts'] < 9) & (adata.obs['pct_counts_mito'] < 7.5))\n"
      ],
      "metadata": {
        "id": "YhA8nvII4gfu"
      },
      "execution_count": 93,
      "outputs": []
    },
    {
      "cell_type": "code",
      "source": [],
      "metadata": {
        "id": "MATRVVlQIUWR"
      },
      "execution_count": null,
      "outputs": []
    },
    {
      "cell_type": "code",
      "source": [
        "adata # notice that the number of cells decreased"
      ],
      "metadata": {
        "id": "Ih9xhodX5auk",
        "outputId": "a94ed2b1-e9b6-43cb-8457-79605b730561",
        "colab": {
          "base_uri": "https://localhost:8080/"
        }
      },
      "execution_count": 52,
      "outputs": [
        {
          "output_type": "execute_result",
          "data": {
            "text/plain": [
              "AnnData object with n_obs × n_vars = 6410 × 17473\n",
              "    obs: 'LIBRARY_ID', 'patient_id', 'condition', 'n_genes_by_counts', 'log1p_n_genes_by_counts', 'total_counts', 'log1p_total_counts', 'pct_counts_in_top_50_genes', 'pct_counts_in_top_100_genes', 'pct_counts_in_top_200_genes', 'pct_counts_in_top_500_genes', 'total_counts_mito', 'log1p_total_counts_mito', 'pct_counts_mito', 'cells_filter'\n",
              "    var: 'gene_name', 'mito', 'n_cells_by_counts', 'mean_counts', 'log1p_mean_counts', 'pct_dropout_by_counts', 'total_counts', 'log1p_total_counts', 'n_cells'"
            ]
          },
          "metadata": {},
          "execution_count": 52
        }
      ]
    },
    {
      "cell_type": "markdown",
      "source": [
        "### Doublet detection (scrublet)"
      ],
      "metadata": {
        "id": "mMJhCV4-6KcU"
      }
    },
    {
      "cell_type": "markdown",
      "source": [
        "- We expect very few doublets in this particular case. The majority of doublets were removed using genetic information / patient SNPs.\n"
      ],
      "metadata": {
        "id": "UAcjeugt712X"
      }
    },
    {
      "cell_type": "code",
      "source": [
        "#############################################\n",
        "# doublet detection with scrublet\n",
        "sc.pp.scrublet(adata)"
      ],
      "metadata": {
        "id": "gzlwAO9H5jgd",
        "outputId": "9d8350fd-9452-4a52-9635-44f7301acff5",
        "colab": {
          "base_uri": "https://localhost:8080/"
        }
      },
      "execution_count": 55,
      "outputs": [
        {
          "output_type": "stream",
          "name": "stderr",
          "text": [
            "/usr/local/lib/python3.12/dist-packages/scanpy/neighbors/__init__.py:430: FutureWarning: Use obsm (e.g. `k in adata.obsm` or `adata.obsm.keys() | {'u'}`) instead of AnnData.obsm_keys, AnnData.obsm_keys is deprecated and will be removed in the future.\n",
            "  if \"X_diffmap\" in adata.obsm_keys():\n"
          ]
        }
      ]
    },
    {
      "cell_type": "code",
      "source": [
        "adata # notice the columns 'doublet_score' and 'predicted_doublet' were added in obs. Also .uns appeared."
      ],
      "metadata": {
        "id": "jIFE3NE86jjE",
        "outputId": "cb2e132f-2468-42de-927b-c1e9087173f3",
        "colab": {
          "base_uri": "https://localhost:8080/"
        }
      },
      "execution_count": 56,
      "outputs": [
        {
          "output_type": "execute_result",
          "data": {
            "text/plain": [
              "AnnData object with n_obs × n_vars = 6410 × 17473\n",
              "    obs: 'LIBRARY_ID', 'patient_id', 'condition', 'n_genes_by_counts', 'log1p_n_genes_by_counts', 'total_counts', 'log1p_total_counts', 'pct_counts_in_top_50_genes', 'pct_counts_in_top_100_genes', 'pct_counts_in_top_200_genes', 'pct_counts_in_top_500_genes', 'total_counts_mito', 'log1p_total_counts_mito', 'pct_counts_mito', 'cells_filter', 'doublet_score', 'predicted_doublet'\n",
              "    var: 'gene_name', 'mito', 'n_cells_by_counts', 'mean_counts', 'log1p_mean_counts', 'pct_dropout_by_counts', 'total_counts', 'log1p_total_counts', 'n_cells'\n",
              "    uns: 'scrublet'"
            ]
          },
          "metadata": {},
          "execution_count": 56
        }
      ]
    },
    {
      "cell_type": "code",
      "source": [
        "#### !!!\n",
        "#### This is NOT part of the single cell analysis\n",
        "#### we run this to create some (fake) detected doublets\n",
        "#### because no doublets are actually detected in this sample\n",
        "import numpy as np\n",
        "adata.obs[\"predicted_doublet\"] = np.random.rand(adata.n_obs) < 0.05"
      ],
      "metadata": {
        "id": "DUQ_8QmV-tuG"
      },
      "execution_count": 57,
      "outputs": []
    },
    {
      "cell_type": "code",
      "source": [
        "# .value_counts(): count how many times a value appears in a column of a dataframe\n",
        "adata.obs['predicted_doublet'].value_counts()"
      ],
      "metadata": {
        "id": "HkjieXCD7Cnx",
        "outputId": "e8357a94-e0cb-421a-c975-fa983e786f80",
        "colab": {
          "base_uri": "https://localhost:8080/",
          "height": 178
        }
      },
      "execution_count": 58,
      "outputs": [
        {
          "output_type": "execute_result",
          "data": {
            "text/plain": [
              "predicted_doublet\n",
              "False    6091\n",
              "True      319\n",
              "Name: count, dtype: int64"
            ],
            "text/html": [
              "<div>\n",
              "<style scoped>\n",
              "    .dataframe tbody tr th:only-of-type {\n",
              "        vertical-align: middle;\n",
              "    }\n",
              "\n",
              "    .dataframe tbody tr th {\n",
              "        vertical-align: top;\n",
              "    }\n",
              "\n",
              "    .dataframe thead th {\n",
              "        text-align: right;\n",
              "    }\n",
              "</style>\n",
              "<table border=\"1\" class=\"dataframe\">\n",
              "  <thead>\n",
              "    <tr style=\"text-align: right;\">\n",
              "      <th></th>\n",
              "      <th>count</th>\n",
              "    </tr>\n",
              "    <tr>\n",
              "      <th>predicted_doublet</th>\n",
              "      <th></th>\n",
              "    </tr>\n",
              "  </thead>\n",
              "  <tbody>\n",
              "    <tr>\n",
              "      <th>False</th>\n",
              "      <td>6091</td>\n",
              "    </tr>\n",
              "    <tr>\n",
              "      <th>True</th>\n",
              "      <td>319</td>\n",
              "    </tr>\n",
              "  </tbody>\n",
              "</table>\n",
              "</div><br><label><b>dtype:</b> int64</label>"
            ]
          },
          "metadata": {},
          "execution_count": 58
        }
      ]
    },
    {
      "cell_type": "code",
      "source": [
        "##############################################\n",
        "# [🔺] AnnData challenge: filter out detected doublets!\n",
        "# Hint1: adata can be sliced as a DataFrame, i.e., adata[ some condition here ]\n",
        "# Hint2: adata.obs has the predicted_doublet column which is False for the cells we want to keep\n",
        "\n",
        "adata\n",
        "\n"
      ],
      "metadata": {
        "id": "JslXT6px6tmb"
      },
      "execution_count": null,
      "outputs": []
    },
    {
      "cell_type": "markdown",
      "source": [
        "## STEP 2: Normalization and log-transformation"
      ],
      "metadata": {
        "id": "LfLd53qo-fU0"
      }
    },
    {
      "cell_type": "code",
      "source": [
        "##############################################\n",
        "# Before normalization, we want to save the count data to a new layer. The .copy() in the end makes sure that the data in adata.X are duplicated!!\n",
        "# Otherwise the adata.layers[\"counts\"] and adata.X will be pointing to the same location in computer memory\n",
        "# which means that when one of them changes the other one does too. We don't want that : )\n",
        "\n",
        "adata.layers[\"counts\"] = adata.X.copy()"
      ],
      "metadata": {
        "id": "WQQHhyv67JZD"
      },
      "execution_count": 73,
      "outputs": []
    },
    {
      "cell_type": "code",
      "source": [
        "adata.layers[\"counts\"].sum()"
      ],
      "metadata": {
        "id": "JEqQIR-oLXjp",
        "outputId": "13e94943-8052-4791-a999-8b69eba246fe",
        "colab": {
          "base_uri": "https://localhost:8080/"
        }
      },
      "execution_count": 74,
      "outputs": [
        {
          "output_type": "execute_result",
          "data": {
            "text/plain": [
              "np.float64(64099999.99999999)"
            ]
          },
          "metadata": {},
          "execution_count": 74
        }
      ]
    },
    {
      "cell_type": "code",
      "source": [
        "adata"
      ],
      "metadata": {
        "id": "TrmeUEHn-o4B",
        "outputId": "58483529-47bf-46b7-e34d-c86dff71d7d0",
        "colab": {
          "base_uri": "https://localhost:8080/"
        }
      },
      "execution_count": 75,
      "outputs": [
        {
          "output_type": "execute_result",
          "data": {
            "text/plain": [
              "AnnData object with n_obs × n_vars = 6410 × 17473\n",
              "    obs: 'LIBRARY_ID', 'patient_id', 'condition', 'n_genes_by_counts', 'log1p_n_genes_by_counts', 'total_counts', 'log1p_total_counts', 'pct_counts_in_top_50_genes', 'pct_counts_in_top_100_genes', 'pct_counts_in_top_200_genes', 'pct_counts_in_top_500_genes', 'total_counts_mito', 'log1p_total_counts_mito', 'pct_counts_mito', 'cells_filter', 'doublet_score', 'predicted_doublet'\n",
              "    var: 'gene_name', 'mito', 'n_cells_by_counts', 'mean_counts', 'log1p_mean_counts', 'pct_dropout_by_counts', 'total_counts', 'log1p_total_counts', 'n_cells'\n",
              "    uns: 'scrublet', 'log1p'\n",
              "    layers: 'log1p', 'counts'"
            ]
          },
          "metadata": {},
          "execution_count": 75
        }
      ]
    },
    {
      "cell_type": "code",
      "source": [
        "##############################################\n",
        "# [🔺] Normalize data to 10K total counts\n",
        "\n",
        "sc.pp.normalize_total(adata, target_sum= 10000)\n",
        "\n"
      ],
      "metadata": {
        "id": "CitB7AIf-vU4"
      },
      "execution_count": 76,
      "outputs": []
    },
    {
      "cell_type": "markdown",
      "source": [
        "- `target_sum = 10000` is kind of arbitrary but very widely used. If we don't specify the target_sum parameter, `sc.pp.normalize_total(adata)` by default will normalize to the median of the total counts.\n"
      ],
      "metadata": {
        "id": "gybD2RgPAknd"
      }
    },
    {
      "cell_type": "code",
      "source": [
        "# The only thing that changed is the X matrix (gene expression),\n",
        "# which is now normalized to sum to 10K\n",
        "adata.X.sum(1)"
      ],
      "metadata": {
        "id": "dZ2e-xIvA3ve",
        "outputId": "c71f2dc2-d422-4f32-b884-0570b3142e92",
        "colab": {
          "base_uri": "https://localhost:8080/"
        }
      },
      "execution_count": 77,
      "outputs": [
        {
          "output_type": "execute_result",
          "data": {
            "text/plain": [
              "matrix([[10000.],\n",
              "        [10000.],\n",
              "        [10000.],\n",
              "        ...,\n",
              "        [10000.],\n",
              "        [10000.],\n",
              "        [10000.]])"
            ]
          },
          "metadata": {},
          "execution_count": 77
        }
      ]
    },
    {
      "cell_type": "code",
      "source": [
        "##############################################\n",
        "# [🔺] Logarithmize the data\n",
        "\n",
        "sc.pp.log1p(adata)\n"
      ],
      "metadata": {
        "id": "9X6EMoxQB3Ef",
        "outputId": "1029ded4-43fe-4eb4-a777-d795193687cd",
        "colab": {
          "base_uri": "https://localhost:8080/"
        }
      },
      "execution_count": 78,
      "outputs": [
        {
          "output_type": "stream",
          "name": "stdout",
          "text": [
            "WARNING: adata.X seems to be already log-transformed.\n"
          ]
        }
      ]
    },
    {
      "cell_type": "code",
      "source": [
        "adata.X.sum(1) # the X matrix changed. Each entry is now log(1+x)"
      ],
      "metadata": {
        "id": "AqH8bXWPB6Lk",
        "outputId": "043efe2e-2e95-4998-f090-b5ca0fc081b8",
        "colab": {
          "base_uri": "https://localhost:8080/"
        }
      },
      "execution_count": 79,
      "outputs": [
        {
          "output_type": "execute_result",
          "data": {
            "text/plain": [
              "matrix([[1014.82995813],\n",
              "        [2768.36496153],\n",
              "        [1253.18041009],\n",
              "        ...,\n",
              "        [1494.71269687],\n",
              "        [1545.01714787],\n",
              "        [ 631.33424298]])"
            ]
          },
          "metadata": {},
          "execution_count": 79
        }
      ]
    },
    {
      "cell_type": "code",
      "source": [
        "######################################################\n",
        "# [🔺] save the log1p normalized counts to a new layer! Let's call it 'log1p'\n",
        "# We want to keep these around (useful for plotting and differential expression analysis) and adata.X will change again later.\n",
        "\n",
        "adata.layers[\"log1p\"] = adata.X.copy()\n",
        "adata\n"
      ],
      "metadata": {
        "id": "Uu_OtewLCAgb",
        "outputId": "359214bb-bed3-4b3f-bed6-73e29a43d9c0",
        "colab": {
          "base_uri": "https://localhost:8080/"
        }
      },
      "execution_count": 80,
      "outputs": [
        {
          "output_type": "execute_result",
          "data": {
            "text/plain": [
              "AnnData object with n_obs × n_vars = 6410 × 17473\n",
              "    obs: 'LIBRARY_ID', 'patient_id', 'condition', 'n_genes_by_counts', 'log1p_n_genes_by_counts', 'total_counts', 'log1p_total_counts', 'pct_counts_in_top_50_genes', 'pct_counts_in_top_100_genes', 'pct_counts_in_top_200_genes', 'pct_counts_in_top_500_genes', 'total_counts_mito', 'log1p_total_counts_mito', 'pct_counts_mito', 'cells_filter', 'doublet_score', 'predicted_doublet'\n",
              "    var: 'gene_name', 'mito', 'n_cells_by_counts', 'mean_counts', 'log1p_mean_counts', 'pct_dropout_by_counts', 'total_counts', 'log1p_total_counts', 'n_cells'\n",
              "    uns: 'scrublet', 'log1p'\n",
              "    layers: 'log1p', 'counts'"
            ]
          },
          "metadata": {},
          "execution_count": 80
        }
      ]
    },
    {
      "cell_type": "code",
      "source": [],
      "metadata": {
        "id": "Mm3zlExSDDgO"
      },
      "execution_count": null,
      "outputs": []
    },
    {
      "cell_type": "markdown",
      "source": [
        "## STEP 3: Highly variable genes (feature selection)"
      ],
      "metadata": {
        "id": "-MPxDjn0Ddzo"
      }
    },
    {
      "cell_type": "code",
      "source": [
        "######################################################\n",
        "sc.pp.highly_variable_genes(adata, n_top_genes = 2000,\n",
        "                            flavor='seurat_v3',\n",
        "                            layer='counts')"
      ],
      "metadata": {
        "id": "oflkqDnRDDBO",
        "outputId": "99f663a9-4244-4d86-e491-b03b733828b8",
        "colab": {
          "base_uri": "https://localhost:8080/"
        }
      },
      "execution_count": 81,
      "outputs": [
        {
          "output_type": "stream",
          "name": "stderr",
          "text": [
            "/usr/local/lib/python3.12/dist-packages/legacy_api_wrap/__init__.py:82: UserWarning: `flavor='seurat_v3'` expects raw count data, but non-integers were found.\n",
            "  return fn(*args_all, **kw)\n"
          ]
        }
      ]
    },
    {
      "cell_type": "code",
      "source": [
        "# This added information in the var dataframe\n",
        "adata.var"
      ],
      "metadata": {
        "id": "KE_qZJRRDVhd",
        "outputId": "b9655233-1914-4ed1-ed0d-fdd55f7c3b07",
        "colab": {
          "base_uri": "https://localhost:8080/",
          "height": 513
        }
      },
      "execution_count": 82,
      "outputs": [
        {
          "output_type": "execute_result",
          "data": {
            "text/plain": [
              "                   gene_name   mito  n_cells_by_counts  mean_counts  \\\n",
              "RP11-34P13.15  RP11-34P13.15  False                 44     0.006864   \n",
              "RP11-34P13.13  RP11-34P13.13  False                 46     0.007332   \n",
              "FO538757.1        FO538757.1  False                103     0.016381   \n",
              "AP006222.2        AP006222.2  False                  5     0.000780   \n",
              "RP4-669L17.10  RP4-669L17.10  False                  9     0.001404   \n",
              "...                      ...    ...                ...          ...   \n",
              "AP001432.14      AP001432.14  False                  5     0.000780   \n",
              "UMODL1-AS1        UMODL1-AS1  False                  5     0.000780   \n",
              "AP001469.7        AP001469.7  False                  5     0.000780   \n",
              "MT-TY                  MT-TY   True                  5     0.000780   \n",
              "MT-TH                  MT-TH   True                  5     0.000780   \n",
              "\n",
              "               log1p_mean_counts  pct_dropout_by_counts  total_counts  \\\n",
              "RP11-34P13.15           0.006841              99.313573          44.0   \n",
              "RP11-34P13.13           0.007306              99.282371          47.0   \n",
              "FO538757.1              0.016248              98.393136         105.0   \n",
              "AP006222.2              0.000780              99.921997           5.0   \n",
              "RP4-669L17.10           0.001403              99.859594           9.0   \n",
              "...                          ...                    ...           ...   \n",
              "AP001432.14             0.000780              99.921997           5.0   \n",
              "UMODL1-AS1              0.000780              99.921997           5.0   \n",
              "AP001469.7              0.000780              99.921997           5.0   \n",
              "MT-TY                   0.000780              99.921997           5.0   \n",
              "MT-TH                   0.000780              99.921997           5.0   \n",
              "\n",
              "               log1p_total_counts  n_cells  highly_variable  \\\n",
              "RP11-34P13.15            3.806662       44            False   \n",
              "RP11-34P13.13            3.871201       46             True   \n",
              "FO538757.1               4.663439      103            False   \n",
              "AP006222.2               1.791759        5            False   \n",
              "RP4-669L17.10            2.302585        9            False   \n",
              "...                           ...      ...              ...   \n",
              "AP001432.14              1.791759        5            False   \n",
              "UMODL1-AS1               1.791759        5            False   \n",
              "AP001469.7               1.791759        5             True   \n",
              "MT-TY                    1.791759        5             True   \n",
              "MT-TH                    1.791759        5             True   \n",
              "\n",
              "               highly_variable_rank     means  variances  variances_norm  \n",
              "RP11-34P13.15                   NaN  0.052854   0.572856        0.710714  \n",
              "RP11-34P13.13                 759.0  0.072632   1.743700        1.572838  \n",
              "FO538757.1                      NaN  0.124440   1.544092        0.823454  \n",
              "AP006222.2                      NaN  0.006882   0.070752        1.147295  \n",
              "RP4-669L17.10                   NaN  0.012161   0.268108        1.227890  \n",
              "...                             ...       ...        ...             ...  \n",
              "AP001432.14                     NaN  0.004029   0.023066        1.003539  \n",
              "UMODL1-AS1                      NaN  0.003292   0.017432        1.140742  \n",
              "AP001469.7                   1088.0  0.011636   0.302375        1.474123  \n",
              "MT-TY                        1562.0  0.006303   0.073091        1.380284  \n",
              "MT-TH                        1874.0  0.006754   0.094090        1.338312  \n",
              "\n",
              "[17473 rows x 14 columns]"
            ],
            "text/html": [
              "\n",
              "  <div id=\"df-d9daed04-d575-4956-9588-8d0f3fa4f51d\" class=\"colab-df-container\">\n",
              "    <div>\n",
              "<style scoped>\n",
              "    .dataframe tbody tr th:only-of-type {\n",
              "        vertical-align: middle;\n",
              "    }\n",
              "\n",
              "    .dataframe tbody tr th {\n",
              "        vertical-align: top;\n",
              "    }\n",
              "\n",
              "    .dataframe thead th {\n",
              "        text-align: right;\n",
              "    }\n",
              "</style>\n",
              "<table border=\"1\" class=\"dataframe\">\n",
              "  <thead>\n",
              "    <tr style=\"text-align: right;\">\n",
              "      <th></th>\n",
              "      <th>gene_name</th>\n",
              "      <th>mito</th>\n",
              "      <th>n_cells_by_counts</th>\n",
              "      <th>mean_counts</th>\n",
              "      <th>log1p_mean_counts</th>\n",
              "      <th>pct_dropout_by_counts</th>\n",
              "      <th>total_counts</th>\n",
              "      <th>log1p_total_counts</th>\n",
              "      <th>n_cells</th>\n",
              "      <th>highly_variable</th>\n",
              "      <th>highly_variable_rank</th>\n",
              "      <th>means</th>\n",
              "      <th>variances</th>\n",
              "      <th>variances_norm</th>\n",
              "    </tr>\n",
              "  </thead>\n",
              "  <tbody>\n",
              "    <tr>\n",
              "      <th>RP11-34P13.15</th>\n",
              "      <td>RP11-34P13.15</td>\n",
              "      <td>False</td>\n",
              "      <td>44</td>\n",
              "      <td>0.006864</td>\n",
              "      <td>0.006841</td>\n",
              "      <td>99.313573</td>\n",
              "      <td>44.0</td>\n",
              "      <td>3.806662</td>\n",
              "      <td>44</td>\n",
              "      <td>False</td>\n",
              "      <td>NaN</td>\n",
              "      <td>0.052854</td>\n",
              "      <td>0.572856</td>\n",
              "      <td>0.710714</td>\n",
              "    </tr>\n",
              "    <tr>\n",
              "      <th>RP11-34P13.13</th>\n",
              "      <td>RP11-34P13.13</td>\n",
              "      <td>False</td>\n",
              "      <td>46</td>\n",
              "      <td>0.007332</td>\n",
              "      <td>0.007306</td>\n",
              "      <td>99.282371</td>\n",
              "      <td>47.0</td>\n",
              "      <td>3.871201</td>\n",
              "      <td>46</td>\n",
              "      <td>True</td>\n",
              "      <td>759.0</td>\n",
              "      <td>0.072632</td>\n",
              "      <td>1.743700</td>\n",
              "      <td>1.572838</td>\n",
              "    </tr>\n",
              "    <tr>\n",
              "      <th>FO538757.1</th>\n",
              "      <td>FO538757.1</td>\n",
              "      <td>False</td>\n",
              "      <td>103</td>\n",
              "      <td>0.016381</td>\n",
              "      <td>0.016248</td>\n",
              "      <td>98.393136</td>\n",
              "      <td>105.0</td>\n",
              "      <td>4.663439</td>\n",
              "      <td>103</td>\n",
              "      <td>False</td>\n",
              "      <td>NaN</td>\n",
              "      <td>0.124440</td>\n",
              "      <td>1.544092</td>\n",
              "      <td>0.823454</td>\n",
              "    </tr>\n",
              "    <tr>\n",
              "      <th>AP006222.2</th>\n",
              "      <td>AP006222.2</td>\n",
              "      <td>False</td>\n",
              "      <td>5</td>\n",
              "      <td>0.000780</td>\n",
              "      <td>0.000780</td>\n",
              "      <td>99.921997</td>\n",
              "      <td>5.0</td>\n",
              "      <td>1.791759</td>\n",
              "      <td>5</td>\n",
              "      <td>False</td>\n",
              "      <td>NaN</td>\n",
              "      <td>0.006882</td>\n",
              "      <td>0.070752</td>\n",
              "      <td>1.147295</td>\n",
              "    </tr>\n",
              "    <tr>\n",
              "      <th>RP4-669L17.10</th>\n",
              "      <td>RP4-669L17.10</td>\n",
              "      <td>False</td>\n",
              "      <td>9</td>\n",
              "      <td>0.001404</td>\n",
              "      <td>0.001403</td>\n",
              "      <td>99.859594</td>\n",
              "      <td>9.0</td>\n",
              "      <td>2.302585</td>\n",
              "      <td>9</td>\n",
              "      <td>False</td>\n",
              "      <td>NaN</td>\n",
              "      <td>0.012161</td>\n",
              "      <td>0.268108</td>\n",
              "      <td>1.227890</td>\n",
              "    </tr>\n",
              "    <tr>\n",
              "      <th>...</th>\n",
              "      <td>...</td>\n",
              "      <td>...</td>\n",
              "      <td>...</td>\n",
              "      <td>...</td>\n",
              "      <td>...</td>\n",
              "      <td>...</td>\n",
              "      <td>...</td>\n",
              "      <td>...</td>\n",
              "      <td>...</td>\n",
              "      <td>...</td>\n",
              "      <td>...</td>\n",
              "      <td>...</td>\n",
              "      <td>...</td>\n",
              "      <td>...</td>\n",
              "    </tr>\n",
              "    <tr>\n",
              "      <th>AP001432.14</th>\n",
              "      <td>AP001432.14</td>\n",
              "      <td>False</td>\n",
              "      <td>5</td>\n",
              "      <td>0.000780</td>\n",
              "      <td>0.000780</td>\n",
              "      <td>99.921997</td>\n",
              "      <td>5.0</td>\n",
              "      <td>1.791759</td>\n",
              "      <td>5</td>\n",
              "      <td>False</td>\n",
              "      <td>NaN</td>\n",
              "      <td>0.004029</td>\n",
              "      <td>0.023066</td>\n",
              "      <td>1.003539</td>\n",
              "    </tr>\n",
              "    <tr>\n",
              "      <th>UMODL1-AS1</th>\n",
              "      <td>UMODL1-AS1</td>\n",
              "      <td>False</td>\n",
              "      <td>5</td>\n",
              "      <td>0.000780</td>\n",
              "      <td>0.000780</td>\n",
              "      <td>99.921997</td>\n",
              "      <td>5.0</td>\n",
              "      <td>1.791759</td>\n",
              "      <td>5</td>\n",
              "      <td>False</td>\n",
              "      <td>NaN</td>\n",
              "      <td>0.003292</td>\n",
              "      <td>0.017432</td>\n",
              "      <td>1.140742</td>\n",
              "    </tr>\n",
              "    <tr>\n",
              "      <th>AP001469.7</th>\n",
              "      <td>AP001469.7</td>\n",
              "      <td>False</td>\n",
              "      <td>5</td>\n",
              "      <td>0.000780</td>\n",
              "      <td>0.000780</td>\n",
              "      <td>99.921997</td>\n",
              "      <td>5.0</td>\n",
              "      <td>1.791759</td>\n",
              "      <td>5</td>\n",
              "      <td>True</td>\n",
              "      <td>1088.0</td>\n",
              "      <td>0.011636</td>\n",
              "      <td>0.302375</td>\n",
              "      <td>1.474123</td>\n",
              "    </tr>\n",
              "    <tr>\n",
              "      <th>MT-TY</th>\n",
              "      <td>MT-TY</td>\n",
              "      <td>True</td>\n",
              "      <td>5</td>\n",
              "      <td>0.000780</td>\n",
              "      <td>0.000780</td>\n",
              "      <td>99.921997</td>\n",
              "      <td>5.0</td>\n",
              "      <td>1.791759</td>\n",
              "      <td>5</td>\n",
              "      <td>True</td>\n",
              "      <td>1562.0</td>\n",
              "      <td>0.006303</td>\n",
              "      <td>0.073091</td>\n",
              "      <td>1.380284</td>\n",
              "    </tr>\n",
              "    <tr>\n",
              "      <th>MT-TH</th>\n",
              "      <td>MT-TH</td>\n",
              "      <td>True</td>\n",
              "      <td>5</td>\n",
              "      <td>0.000780</td>\n",
              "      <td>0.000780</td>\n",
              "      <td>99.921997</td>\n",
              "      <td>5.0</td>\n",
              "      <td>1.791759</td>\n",
              "      <td>5</td>\n",
              "      <td>True</td>\n",
              "      <td>1874.0</td>\n",
              "      <td>0.006754</td>\n",
              "      <td>0.094090</td>\n",
              "      <td>1.338312</td>\n",
              "    </tr>\n",
              "  </tbody>\n",
              "</table>\n",
              "<p>17473 rows × 14 columns</p>\n",
              "</div>\n",
              "    <div class=\"colab-df-buttons\">\n",
              "\n",
              "  <div class=\"colab-df-container\">\n",
              "    <button class=\"colab-df-convert\" onclick=\"convertToInteractive('df-d9daed04-d575-4956-9588-8d0f3fa4f51d')\"\n",
              "            title=\"Convert this dataframe to an interactive table.\"\n",
              "            style=\"display:none;\">\n",
              "\n",
              "  <svg xmlns=\"http://www.w3.org/2000/svg\" height=\"24px\" viewBox=\"0 -960 960 960\">\n",
              "    <path d=\"M120-120v-720h720v720H120Zm60-500h600v-160H180v160Zm220 220h160v-160H400v160Zm0 220h160v-160H400v160ZM180-400h160v-160H180v160Zm440 0h160v-160H620v160ZM180-180h160v-160H180v160Zm440 0h160v-160H620v160Z\"/>\n",
              "  </svg>\n",
              "    </button>\n",
              "\n",
              "  <style>\n",
              "    .colab-df-container {\n",
              "      display:flex;\n",
              "      gap: 12px;\n",
              "    }\n",
              "\n",
              "    .colab-df-convert {\n",
              "      background-color: #E8F0FE;\n",
              "      border: none;\n",
              "      border-radius: 50%;\n",
              "      cursor: pointer;\n",
              "      display: none;\n",
              "      fill: #1967D2;\n",
              "      height: 32px;\n",
              "      padding: 0 0 0 0;\n",
              "      width: 32px;\n",
              "    }\n",
              "\n",
              "    .colab-df-convert:hover {\n",
              "      background-color: #E2EBFA;\n",
              "      box-shadow: 0px 1px 2px rgba(60, 64, 67, 0.3), 0px 1px 3px 1px rgba(60, 64, 67, 0.15);\n",
              "      fill: #174EA6;\n",
              "    }\n",
              "\n",
              "    .colab-df-buttons div {\n",
              "      margin-bottom: 4px;\n",
              "    }\n",
              "\n",
              "    [theme=dark] .colab-df-convert {\n",
              "      background-color: #3B4455;\n",
              "      fill: #D2E3FC;\n",
              "    }\n",
              "\n",
              "    [theme=dark] .colab-df-convert:hover {\n",
              "      background-color: #434B5C;\n",
              "      box-shadow: 0px 1px 3px 1px rgba(0, 0, 0, 0.15);\n",
              "      filter: drop-shadow(0px 1px 2px rgba(0, 0, 0, 0.3));\n",
              "      fill: #FFFFFF;\n",
              "    }\n",
              "  </style>\n",
              "\n",
              "    <script>\n",
              "      const buttonEl =\n",
              "        document.querySelector('#df-d9daed04-d575-4956-9588-8d0f3fa4f51d button.colab-df-convert');\n",
              "      buttonEl.style.display =\n",
              "        google.colab.kernel.accessAllowed ? 'block' : 'none';\n",
              "\n",
              "      async function convertToInteractive(key) {\n",
              "        const element = document.querySelector('#df-d9daed04-d575-4956-9588-8d0f3fa4f51d');\n",
              "        const dataTable =\n",
              "          await google.colab.kernel.invokeFunction('convertToInteractive',\n",
              "                                                    [key], {});\n",
              "        if (!dataTable) return;\n",
              "\n",
              "        const docLinkHtml = 'Like what you see? Visit the ' +\n",
              "          '<a target=\"_blank\" href=https://colab.research.google.com/notebooks/data_table.ipynb>data table notebook</a>'\n",
              "          + ' to learn more about interactive tables.';\n",
              "        element.innerHTML = '';\n",
              "        dataTable['output_type'] = 'display_data';\n",
              "        await google.colab.output.renderOutput(dataTable, element);\n",
              "        const docLink = document.createElement('div');\n",
              "        docLink.innerHTML = docLinkHtml;\n",
              "        element.appendChild(docLink);\n",
              "      }\n",
              "    </script>\n",
              "  </div>\n",
              "\n",
              "\n",
              "    <div id=\"df-5fbfd998-bb4b-44c5-a01e-61d57e6da804\">\n",
              "      <button class=\"colab-df-quickchart\" onclick=\"quickchart('df-5fbfd998-bb4b-44c5-a01e-61d57e6da804')\"\n",
              "                title=\"Suggest charts\"\n",
              "                style=\"display:none;\">\n",
              "\n",
              "<svg xmlns=\"http://www.w3.org/2000/svg\" height=\"24px\"viewBox=\"0 0 24 24\"\n",
              "     width=\"24px\">\n",
              "    <g>\n",
              "        <path d=\"M19 3H5c-1.1 0-2 .9-2 2v14c0 1.1.9 2 2 2h14c1.1 0 2-.9 2-2V5c0-1.1-.9-2-2-2zM9 17H7v-7h2v7zm4 0h-2V7h2v10zm4 0h-2v-4h2v4z\"/>\n",
              "    </g>\n",
              "</svg>\n",
              "      </button>\n",
              "\n",
              "<style>\n",
              "  .colab-df-quickchart {\n",
              "      --bg-color: #E8F0FE;\n",
              "      --fill-color: #1967D2;\n",
              "      --hover-bg-color: #E2EBFA;\n",
              "      --hover-fill-color: #174EA6;\n",
              "      --disabled-fill-color: #AAA;\n",
              "      --disabled-bg-color: #DDD;\n",
              "  }\n",
              "\n",
              "  [theme=dark] .colab-df-quickchart {\n",
              "      --bg-color: #3B4455;\n",
              "      --fill-color: #D2E3FC;\n",
              "      --hover-bg-color: #434B5C;\n",
              "      --hover-fill-color: #FFFFFF;\n",
              "      --disabled-bg-color: #3B4455;\n",
              "      --disabled-fill-color: #666;\n",
              "  }\n",
              "\n",
              "  .colab-df-quickchart {\n",
              "    background-color: var(--bg-color);\n",
              "    border: none;\n",
              "    border-radius: 50%;\n",
              "    cursor: pointer;\n",
              "    display: none;\n",
              "    fill: var(--fill-color);\n",
              "    height: 32px;\n",
              "    padding: 0;\n",
              "    width: 32px;\n",
              "  }\n",
              "\n",
              "  .colab-df-quickchart:hover {\n",
              "    background-color: var(--hover-bg-color);\n",
              "    box-shadow: 0 1px 2px rgba(60, 64, 67, 0.3), 0 1px 3px 1px rgba(60, 64, 67, 0.15);\n",
              "    fill: var(--button-hover-fill-color);\n",
              "  }\n",
              "\n",
              "  .colab-df-quickchart-complete:disabled,\n",
              "  .colab-df-quickchart-complete:disabled:hover {\n",
              "    background-color: var(--disabled-bg-color);\n",
              "    fill: var(--disabled-fill-color);\n",
              "    box-shadow: none;\n",
              "  }\n",
              "\n",
              "  .colab-df-spinner {\n",
              "    border: 2px solid var(--fill-color);\n",
              "    border-color: transparent;\n",
              "    border-bottom-color: var(--fill-color);\n",
              "    animation:\n",
              "      spin 1s steps(1) infinite;\n",
              "  }\n",
              "\n",
              "  @keyframes spin {\n",
              "    0% {\n",
              "      border-color: transparent;\n",
              "      border-bottom-color: var(--fill-color);\n",
              "      border-left-color: var(--fill-color);\n",
              "    }\n",
              "    20% {\n",
              "      border-color: transparent;\n",
              "      border-left-color: var(--fill-color);\n",
              "      border-top-color: var(--fill-color);\n",
              "    }\n",
              "    30% {\n",
              "      border-color: transparent;\n",
              "      border-left-color: var(--fill-color);\n",
              "      border-top-color: var(--fill-color);\n",
              "      border-right-color: var(--fill-color);\n",
              "    }\n",
              "    40% {\n",
              "      border-color: transparent;\n",
              "      border-right-color: var(--fill-color);\n",
              "      border-top-color: var(--fill-color);\n",
              "    }\n",
              "    60% {\n",
              "      border-color: transparent;\n",
              "      border-right-color: var(--fill-color);\n",
              "    }\n",
              "    80% {\n",
              "      border-color: transparent;\n",
              "      border-right-color: var(--fill-color);\n",
              "      border-bottom-color: var(--fill-color);\n",
              "    }\n",
              "    90% {\n",
              "      border-color: transparent;\n",
              "      border-bottom-color: var(--fill-color);\n",
              "    }\n",
              "  }\n",
              "</style>\n",
              "\n",
              "      <script>\n",
              "        async function quickchart(key) {\n",
              "          const quickchartButtonEl =\n",
              "            document.querySelector('#' + key + ' button');\n",
              "          quickchartButtonEl.disabled = true;  // To prevent multiple clicks.\n",
              "          quickchartButtonEl.classList.add('colab-df-spinner');\n",
              "          try {\n",
              "            const charts = await google.colab.kernel.invokeFunction(\n",
              "                'suggestCharts', [key], {});\n",
              "          } catch (error) {\n",
              "            console.error('Error during call to suggestCharts:', error);\n",
              "          }\n",
              "          quickchartButtonEl.classList.remove('colab-df-spinner');\n",
              "          quickchartButtonEl.classList.add('colab-df-quickchart-complete');\n",
              "        }\n",
              "        (() => {\n",
              "          let quickchartButtonEl =\n",
              "            document.querySelector('#df-5fbfd998-bb4b-44c5-a01e-61d57e6da804 button');\n",
              "          quickchartButtonEl.style.display =\n",
              "            google.colab.kernel.accessAllowed ? 'block' : 'none';\n",
              "        })();\n",
              "      </script>\n",
              "    </div>\n",
              "\n",
              "    </div>\n",
              "  </div>\n"
            ],
            "application/vnd.google.colaboratory.intrinsic+json": {
              "type": "dataframe",
              "summary": "{\n  \"name\": \"adata\",\n  \"rows\": 17473,\n  \"fields\": [\n    {\n      \"column\": \"gene_name\",\n      \"properties\": {\n        \"dtype\": \"string\",\n        \"num_unique_values\": 17473,\n        \"samples\": [\n          \"ZMYND11\",\n          \"RP11-421N8.1\",\n          \"CDC42\"\n        ],\n        \"semantic_type\": \"\",\n        \"description\": \"\"\n      }\n    },\n    {\n      \"column\": \"mito\",\n      \"properties\": {\n        \"dtype\": \"boolean\",\n        \"num_unique_values\": 2,\n        \"samples\": [\n          true,\n          false\n        ],\n        \"semantic_type\": \"\",\n        \"description\": \"\"\n      }\n    },\n    {\n      \"column\": \"n_cells_by_counts\",\n      \"properties\": {\n        \"dtype\": \"number\",\n        \"std\": 656,\n        \"min\": 5,\n        \"max\": 6352,\n        \"num_unique_values\": 1928,\n        \"samples\": [\n          1117,\n          835\n        ],\n        \"semantic_type\": \"\",\n        \"description\": \"\"\n      }\n    },\n    {\n      \"column\": \"mean_counts\",\n      \"properties\": {\n        \"dtype\": \"number\",\n        \"std\": 1.0743260925123306,\n        \"min\": 0.00078003120124805,\n        \"max\": 73.03260530421217,\n        \"num_unique_values\": 2317,\n        \"samples\": [\n          0.30436817472698907,\n          0.0547581903276131\n        ],\n        \"semantic_type\": \"\",\n        \"description\": \"\"\n      }\n    },\n    {\n      \"column\": \"log1p_mean_counts\",\n      \"properties\": {\n        \"dtype\": \"number\",\n        \"std\": 0.21758773698571476,\n        \"min\": 0.0007797271350210785,\n        \"max\": 4.304505608382193,\n        \"num_unique_values\": 2317,\n        \"samples\": [\n          0.2657187662353422,\n          0.05331153717596217\n        ],\n        \"semantic_type\": \"\",\n        \"description\": \"\"\n      }\n    },\n    {\n      \"column\": \"pct_dropout_by_counts\",\n      \"properties\": {\n        \"dtype\": \"number\",\n        \"std\": 10.234230941017515,\n        \"min\": 0.9048361934477334,\n        \"max\": 99.9219968798752,\n        \"num_unique_values\": 1928,\n        \"samples\": [\n          82.57410296411857,\n          86.97347893915757\n        ],\n        \"semantic_type\": \"\",\n        \"description\": \"\"\n      }\n    },\n    {\n      \"column\": \"total_counts\",\n      \"properties\": {\n        \"dtype\": \"number\",\n        \"std\": 6886.430253004046,\n        \"min\": 5.0,\n        \"max\": 468139.0,\n        \"num_unique_values\": 2317,\n        \"samples\": [\n          1951.0,\n          351.0\n        ],\n        \"semantic_type\": \"\",\n        \"description\": \"\"\n      }\n    },\n    {\n      \"column\": \"log1p_total_counts\",\n      \"properties\": {\n        \"dtype\": \"number\",\n        \"std\": 1.8136170425476066,\n        \"min\": 1.791759469228055,\n        \"max\": 13.056522675463896,\n        \"num_unique_values\": 2317,\n        \"samples\": [\n          7.5766097669730375,\n          5.863631175598097\n        ],\n        \"semantic_type\": \"\",\n        \"description\": \"\"\n      }\n    },\n    {\n      \"column\": \"n_cells\",\n      \"properties\": {\n        \"dtype\": \"number\",\n        \"std\": 656,\n        \"min\": 5,\n        \"max\": 6352,\n        \"num_unique_values\": 1928,\n        \"samples\": [\n          1117,\n          835\n        ],\n        \"semantic_type\": \"\",\n        \"description\": \"\"\n      }\n    },\n    {\n      \"column\": \"highly_variable\",\n      \"properties\": {\n        \"dtype\": \"boolean\",\n        \"num_unique_values\": 2,\n        \"samples\": [\n          true,\n          false\n        ],\n        \"semantic_type\": \"\",\n        \"description\": \"\"\n      }\n    },\n    {\n      \"column\": \"highly_variable_rank\",\n      \"properties\": {\n        \"dtype\": \"float32\",\n        \"num_unique_values\": 2000,\n        \"samples\": [\n          87.0,\n          1689.0\n        ],\n        \"semantic_type\": \"\",\n        \"description\": \"\"\n      }\n    },\n    {\n      \"column\": \"means\",\n      \"properties\": {\n        \"dtype\": \"number\",\n        \"std\": 1.9296136315463923,\n        \"min\": 0.0016045758383532837,\n        \"max\": 39.3381645972635,\n        \"num_unique_values\": 17473,\n        \"samples\": [\n          0.3469882806787561,\n          0.016191963060190936\n        ],\n        \"semantic_type\": \"\",\n        \"description\": \"\"\n      }\n    },\n    {\n      \"column\": \"variances\",\n      \"properties\": {\n        \"dtype\": \"number\",\n        \"std\": 24.17953276361011,\n        \"min\": 0.003402022241012895,\n        \"max\": 494.4138540809168,\n        \"num_unique_values\": 17473,\n        \"samples\": [\n          4.6841590019978785,\n          0.511615342569858\n        ],\n        \"semantic_type\": \"\",\n        \"description\": \"\"\n      }\n    },\n    {\n      \"column\": \"variances_norm\",\n      \"properties\": {\n        \"dtype\": \"number\",\n        \"std\": 0.3156890777566639,\n        \"min\": 0.3661830032478258,\n        \"max\": 4.4265347009131215,\n        \"num_unique_values\": 17473,\n        \"samples\": [\n          0.8772112413184777,\n          1.4978472199936654\n        ],\n        \"semantic_type\": \"\",\n        \"description\": \"\"\n      }\n    }\n  ]\n}"
            }
          },
          "metadata": {},
          "execution_count": 82
        }
      ]
    },
    {
      "cell_type": "code",
      "source": [
        "# .sort_values(): sort a dataframe with respect to the values of a given column\n",
        "# .head(10) prints the top 10\n",
        "adata.var.sort_values('highly_variable_rank').head(10)"
      ],
      "metadata": {
        "id": "L47NIuNMFVqF",
        "outputId": "4fe5bd37-0d54-4fcf-a5e2-d017c2713785",
        "colab": {
          "base_uri": "https://localhost:8080/",
          "height": 383
        }
      },
      "execution_count": 83,
      "outputs": [
        {
          "output_type": "execute_result",
          "data": {
            "text/plain": [
              "             gene_name   mito  n_cells_by_counts  mean_counts  \\\n",
              "ABLIM3          ABLIM3  False                 11     0.002028   \n",
              "ITGB3            ITGB3  False                 12     0.002496   \n",
              "PPBP              PPBP  False                218     0.205148   \n",
              "SDPR              SDPR  False                129     0.041654   \n",
              "IGKV1-17      IGKV1-17  False                  8     0.049298   \n",
              "HRAT92          HRAT92  False                 24     0.004680   \n",
              "AC114752.3  AC114752.3  False                 11     0.001872   \n",
              "TUBB1            TUBB1  False                109     0.041810   \n",
              "SPX                SPX  False                 14     0.004212   \n",
              "GNG11            GNG11  False                109     0.031045   \n",
              "\n",
              "            log1p_mean_counts  pct_dropout_by_counts  total_counts  \\\n",
              "ABLIM3               0.002026              99.828393          13.0   \n",
              "ITGB3                0.002493              99.812793          16.0   \n",
              "PPBP                 0.186603              96.599064        1315.0   \n",
              "SDPR                 0.040810              97.987520         267.0   \n",
              "IGKV1-17             0.048121              99.875195         316.0   \n",
              "HRAT92               0.004669              99.625585          30.0   \n",
              "AC114752.3           0.001870              99.828393          12.0   \n",
              "TUBB1                0.040959              98.299532         268.0   \n",
              "SPX                  0.004203              99.781591          27.0   \n",
              "GNG11                0.030573              98.299532         199.0   \n",
              "\n",
              "            log1p_total_counts  n_cells  highly_variable  \\\n",
              "ABLIM3                2.639057       11             True   \n",
              "ITGB3                 2.833213       12             True   \n",
              "PPBP                  7.182352      218             True   \n",
              "SDPR                  5.590987      129             True   \n",
              "IGKV1-17              5.758902        8             True   \n",
              "HRAT92                3.433987       24             True   \n",
              "AC114752.3            2.564949       11             True   \n",
              "TUBB1                 5.594711      109             True   \n",
              "SPX                   3.332205       14             True   \n",
              "GNG11                 5.298317      109             True   \n",
              "\n",
              "            highly_variable_rank     means  variances  variances_norm  \n",
              "ABLIM3                       0.0  0.096315   6.455731        4.426535  \n",
              "ITGB3                        1.0  0.093343   6.213090        4.392236  \n",
              "PPBP                         2.0  0.924482  57.869744        4.059562  \n",
              "SDPR                         3.0  0.619630  37.648591        3.953437  \n",
              "IGKV1-17                     4.0  0.063468   4.523050        3.815184  \n",
              "HRAT92                       5.0  0.107023   6.111943        3.782034  \n",
              "AC114752.3                   6.0  0.072339   4.602463        3.781268  \n",
              "TUBB1                        7.0  0.522207  30.311929        3.780141  \n",
              "SPX                          8.0  0.079973   4.679187        3.714960  \n",
              "GNG11                        9.0  0.483049  27.342710        3.684455  "
            ],
            "text/html": [
              "\n",
              "  <div id=\"df-3e6a4cf7-368d-4bb0-a763-07cf42a51685\" class=\"colab-df-container\">\n",
              "    <div>\n",
              "<style scoped>\n",
              "    .dataframe tbody tr th:only-of-type {\n",
              "        vertical-align: middle;\n",
              "    }\n",
              "\n",
              "    .dataframe tbody tr th {\n",
              "        vertical-align: top;\n",
              "    }\n",
              "\n",
              "    .dataframe thead th {\n",
              "        text-align: right;\n",
              "    }\n",
              "</style>\n",
              "<table border=\"1\" class=\"dataframe\">\n",
              "  <thead>\n",
              "    <tr style=\"text-align: right;\">\n",
              "      <th></th>\n",
              "      <th>gene_name</th>\n",
              "      <th>mito</th>\n",
              "      <th>n_cells_by_counts</th>\n",
              "      <th>mean_counts</th>\n",
              "      <th>log1p_mean_counts</th>\n",
              "      <th>pct_dropout_by_counts</th>\n",
              "      <th>total_counts</th>\n",
              "      <th>log1p_total_counts</th>\n",
              "      <th>n_cells</th>\n",
              "      <th>highly_variable</th>\n",
              "      <th>highly_variable_rank</th>\n",
              "      <th>means</th>\n",
              "      <th>variances</th>\n",
              "      <th>variances_norm</th>\n",
              "    </tr>\n",
              "  </thead>\n",
              "  <tbody>\n",
              "    <tr>\n",
              "      <th>ABLIM3</th>\n",
              "      <td>ABLIM3</td>\n",
              "      <td>False</td>\n",
              "      <td>11</td>\n",
              "      <td>0.002028</td>\n",
              "      <td>0.002026</td>\n",
              "      <td>99.828393</td>\n",
              "      <td>13.0</td>\n",
              "      <td>2.639057</td>\n",
              "      <td>11</td>\n",
              "      <td>True</td>\n",
              "      <td>0.0</td>\n",
              "      <td>0.096315</td>\n",
              "      <td>6.455731</td>\n",
              "      <td>4.426535</td>\n",
              "    </tr>\n",
              "    <tr>\n",
              "      <th>ITGB3</th>\n",
              "      <td>ITGB3</td>\n",
              "      <td>False</td>\n",
              "      <td>12</td>\n",
              "      <td>0.002496</td>\n",
              "      <td>0.002493</td>\n",
              "      <td>99.812793</td>\n",
              "      <td>16.0</td>\n",
              "      <td>2.833213</td>\n",
              "      <td>12</td>\n",
              "      <td>True</td>\n",
              "      <td>1.0</td>\n",
              "      <td>0.093343</td>\n",
              "      <td>6.213090</td>\n",
              "      <td>4.392236</td>\n",
              "    </tr>\n",
              "    <tr>\n",
              "      <th>PPBP</th>\n",
              "      <td>PPBP</td>\n",
              "      <td>False</td>\n",
              "      <td>218</td>\n",
              "      <td>0.205148</td>\n",
              "      <td>0.186603</td>\n",
              "      <td>96.599064</td>\n",
              "      <td>1315.0</td>\n",
              "      <td>7.182352</td>\n",
              "      <td>218</td>\n",
              "      <td>True</td>\n",
              "      <td>2.0</td>\n",
              "      <td>0.924482</td>\n",
              "      <td>57.869744</td>\n",
              "      <td>4.059562</td>\n",
              "    </tr>\n",
              "    <tr>\n",
              "      <th>SDPR</th>\n",
              "      <td>SDPR</td>\n",
              "      <td>False</td>\n",
              "      <td>129</td>\n",
              "      <td>0.041654</td>\n",
              "      <td>0.040810</td>\n",
              "      <td>97.987520</td>\n",
              "      <td>267.0</td>\n",
              "      <td>5.590987</td>\n",
              "      <td>129</td>\n",
              "      <td>True</td>\n",
              "      <td>3.0</td>\n",
              "      <td>0.619630</td>\n",
              "      <td>37.648591</td>\n",
              "      <td>3.953437</td>\n",
              "    </tr>\n",
              "    <tr>\n",
              "      <th>IGKV1-17</th>\n",
              "      <td>IGKV1-17</td>\n",
              "      <td>False</td>\n",
              "      <td>8</td>\n",
              "      <td>0.049298</td>\n",
              "      <td>0.048121</td>\n",
              "      <td>99.875195</td>\n",
              "      <td>316.0</td>\n",
              "      <td>5.758902</td>\n",
              "      <td>8</td>\n",
              "      <td>True</td>\n",
              "      <td>4.0</td>\n",
              "      <td>0.063468</td>\n",
              "      <td>4.523050</td>\n",
              "      <td>3.815184</td>\n",
              "    </tr>\n",
              "    <tr>\n",
              "      <th>HRAT92</th>\n",
              "      <td>HRAT92</td>\n",
              "      <td>False</td>\n",
              "      <td>24</td>\n",
              "      <td>0.004680</td>\n",
              "      <td>0.004669</td>\n",
              "      <td>99.625585</td>\n",
              "      <td>30.0</td>\n",
              "      <td>3.433987</td>\n",
              "      <td>24</td>\n",
              "      <td>True</td>\n",
              "      <td>5.0</td>\n",
              "      <td>0.107023</td>\n",
              "      <td>6.111943</td>\n",
              "      <td>3.782034</td>\n",
              "    </tr>\n",
              "    <tr>\n",
              "      <th>AC114752.3</th>\n",
              "      <td>AC114752.3</td>\n",
              "      <td>False</td>\n",
              "      <td>11</td>\n",
              "      <td>0.001872</td>\n",
              "      <td>0.001870</td>\n",
              "      <td>99.828393</td>\n",
              "      <td>12.0</td>\n",
              "      <td>2.564949</td>\n",
              "      <td>11</td>\n",
              "      <td>True</td>\n",
              "      <td>6.0</td>\n",
              "      <td>0.072339</td>\n",
              "      <td>4.602463</td>\n",
              "      <td>3.781268</td>\n",
              "    </tr>\n",
              "    <tr>\n",
              "      <th>TUBB1</th>\n",
              "      <td>TUBB1</td>\n",
              "      <td>False</td>\n",
              "      <td>109</td>\n",
              "      <td>0.041810</td>\n",
              "      <td>0.040959</td>\n",
              "      <td>98.299532</td>\n",
              "      <td>268.0</td>\n",
              "      <td>5.594711</td>\n",
              "      <td>109</td>\n",
              "      <td>True</td>\n",
              "      <td>7.0</td>\n",
              "      <td>0.522207</td>\n",
              "      <td>30.311929</td>\n",
              "      <td>3.780141</td>\n",
              "    </tr>\n",
              "    <tr>\n",
              "      <th>SPX</th>\n",
              "      <td>SPX</td>\n",
              "      <td>False</td>\n",
              "      <td>14</td>\n",
              "      <td>0.004212</td>\n",
              "      <td>0.004203</td>\n",
              "      <td>99.781591</td>\n",
              "      <td>27.0</td>\n",
              "      <td>3.332205</td>\n",
              "      <td>14</td>\n",
              "      <td>True</td>\n",
              "      <td>8.0</td>\n",
              "      <td>0.079973</td>\n",
              "      <td>4.679187</td>\n",
              "      <td>3.714960</td>\n",
              "    </tr>\n",
              "    <tr>\n",
              "      <th>GNG11</th>\n",
              "      <td>GNG11</td>\n",
              "      <td>False</td>\n",
              "      <td>109</td>\n",
              "      <td>0.031045</td>\n",
              "      <td>0.030573</td>\n",
              "      <td>98.299532</td>\n",
              "      <td>199.0</td>\n",
              "      <td>5.298317</td>\n",
              "      <td>109</td>\n",
              "      <td>True</td>\n",
              "      <td>9.0</td>\n",
              "      <td>0.483049</td>\n",
              "      <td>27.342710</td>\n",
              "      <td>3.684455</td>\n",
              "    </tr>\n",
              "  </tbody>\n",
              "</table>\n",
              "</div>\n",
              "    <div class=\"colab-df-buttons\">\n",
              "\n",
              "  <div class=\"colab-df-container\">\n",
              "    <button class=\"colab-df-convert\" onclick=\"convertToInteractive('df-3e6a4cf7-368d-4bb0-a763-07cf42a51685')\"\n",
              "            title=\"Convert this dataframe to an interactive table.\"\n",
              "            style=\"display:none;\">\n",
              "\n",
              "  <svg xmlns=\"http://www.w3.org/2000/svg\" height=\"24px\" viewBox=\"0 -960 960 960\">\n",
              "    <path d=\"M120-120v-720h720v720H120Zm60-500h600v-160H180v160Zm220 220h160v-160H400v160Zm0 220h160v-160H400v160ZM180-400h160v-160H180v160Zm440 0h160v-160H620v160ZM180-180h160v-160H180v160Zm440 0h160v-160H620v160Z\"/>\n",
              "  </svg>\n",
              "    </button>\n",
              "\n",
              "  <style>\n",
              "    .colab-df-container {\n",
              "      display:flex;\n",
              "      gap: 12px;\n",
              "    }\n",
              "\n",
              "    .colab-df-convert {\n",
              "      background-color: #E8F0FE;\n",
              "      border: none;\n",
              "      border-radius: 50%;\n",
              "      cursor: pointer;\n",
              "      display: none;\n",
              "      fill: #1967D2;\n",
              "      height: 32px;\n",
              "      padding: 0 0 0 0;\n",
              "      width: 32px;\n",
              "    }\n",
              "\n",
              "    .colab-df-convert:hover {\n",
              "      background-color: #E2EBFA;\n",
              "      box-shadow: 0px 1px 2px rgba(60, 64, 67, 0.3), 0px 1px 3px 1px rgba(60, 64, 67, 0.15);\n",
              "      fill: #174EA6;\n",
              "    }\n",
              "\n",
              "    .colab-df-buttons div {\n",
              "      margin-bottom: 4px;\n",
              "    }\n",
              "\n",
              "    [theme=dark] .colab-df-convert {\n",
              "      background-color: #3B4455;\n",
              "      fill: #D2E3FC;\n",
              "    }\n",
              "\n",
              "    [theme=dark] .colab-df-convert:hover {\n",
              "      background-color: #434B5C;\n",
              "      box-shadow: 0px 1px 3px 1px rgba(0, 0, 0, 0.15);\n",
              "      filter: drop-shadow(0px 1px 2px rgba(0, 0, 0, 0.3));\n",
              "      fill: #FFFFFF;\n",
              "    }\n",
              "  </style>\n",
              "\n",
              "    <script>\n",
              "      const buttonEl =\n",
              "        document.querySelector('#df-3e6a4cf7-368d-4bb0-a763-07cf42a51685 button.colab-df-convert');\n",
              "      buttonEl.style.display =\n",
              "        google.colab.kernel.accessAllowed ? 'block' : 'none';\n",
              "\n",
              "      async function convertToInteractive(key) {\n",
              "        const element = document.querySelector('#df-3e6a4cf7-368d-4bb0-a763-07cf42a51685');\n",
              "        const dataTable =\n",
              "          await google.colab.kernel.invokeFunction('convertToInteractive',\n",
              "                                                    [key], {});\n",
              "        if (!dataTable) return;\n",
              "\n",
              "        const docLinkHtml = 'Like what you see? Visit the ' +\n",
              "          '<a target=\"_blank\" href=https://colab.research.google.com/notebooks/data_table.ipynb>data table notebook</a>'\n",
              "          + ' to learn more about interactive tables.';\n",
              "        element.innerHTML = '';\n",
              "        dataTable['output_type'] = 'display_data';\n",
              "        await google.colab.output.renderOutput(dataTable, element);\n",
              "        const docLink = document.createElement('div');\n",
              "        docLink.innerHTML = docLinkHtml;\n",
              "        element.appendChild(docLink);\n",
              "      }\n",
              "    </script>\n",
              "  </div>\n",
              "\n",
              "\n",
              "    <div id=\"df-d610d212-e221-443a-a4b0-99cd24f795ca\">\n",
              "      <button class=\"colab-df-quickchart\" onclick=\"quickchart('df-d610d212-e221-443a-a4b0-99cd24f795ca')\"\n",
              "                title=\"Suggest charts\"\n",
              "                style=\"display:none;\">\n",
              "\n",
              "<svg xmlns=\"http://www.w3.org/2000/svg\" height=\"24px\"viewBox=\"0 0 24 24\"\n",
              "     width=\"24px\">\n",
              "    <g>\n",
              "        <path d=\"M19 3H5c-1.1 0-2 .9-2 2v14c0 1.1.9 2 2 2h14c1.1 0 2-.9 2-2V5c0-1.1-.9-2-2-2zM9 17H7v-7h2v7zm4 0h-2V7h2v10zm4 0h-2v-4h2v4z\"/>\n",
              "    </g>\n",
              "</svg>\n",
              "      </button>\n",
              "\n",
              "<style>\n",
              "  .colab-df-quickchart {\n",
              "      --bg-color: #E8F0FE;\n",
              "      --fill-color: #1967D2;\n",
              "      --hover-bg-color: #E2EBFA;\n",
              "      --hover-fill-color: #174EA6;\n",
              "      --disabled-fill-color: #AAA;\n",
              "      --disabled-bg-color: #DDD;\n",
              "  }\n",
              "\n",
              "  [theme=dark] .colab-df-quickchart {\n",
              "      --bg-color: #3B4455;\n",
              "      --fill-color: #D2E3FC;\n",
              "      --hover-bg-color: #434B5C;\n",
              "      --hover-fill-color: #FFFFFF;\n",
              "      --disabled-bg-color: #3B4455;\n",
              "      --disabled-fill-color: #666;\n",
              "  }\n",
              "\n",
              "  .colab-df-quickchart {\n",
              "    background-color: var(--bg-color);\n",
              "    border: none;\n",
              "    border-radius: 50%;\n",
              "    cursor: pointer;\n",
              "    display: none;\n",
              "    fill: var(--fill-color);\n",
              "    height: 32px;\n",
              "    padding: 0;\n",
              "    width: 32px;\n",
              "  }\n",
              "\n",
              "  .colab-df-quickchart:hover {\n",
              "    background-color: var(--hover-bg-color);\n",
              "    box-shadow: 0 1px 2px rgba(60, 64, 67, 0.3), 0 1px 3px 1px rgba(60, 64, 67, 0.15);\n",
              "    fill: var(--button-hover-fill-color);\n",
              "  }\n",
              "\n",
              "  .colab-df-quickchart-complete:disabled,\n",
              "  .colab-df-quickchart-complete:disabled:hover {\n",
              "    background-color: var(--disabled-bg-color);\n",
              "    fill: var(--disabled-fill-color);\n",
              "    box-shadow: none;\n",
              "  }\n",
              "\n",
              "  .colab-df-spinner {\n",
              "    border: 2px solid var(--fill-color);\n",
              "    border-color: transparent;\n",
              "    border-bottom-color: var(--fill-color);\n",
              "    animation:\n",
              "      spin 1s steps(1) infinite;\n",
              "  }\n",
              "\n",
              "  @keyframes spin {\n",
              "    0% {\n",
              "      border-color: transparent;\n",
              "      border-bottom-color: var(--fill-color);\n",
              "      border-left-color: var(--fill-color);\n",
              "    }\n",
              "    20% {\n",
              "      border-color: transparent;\n",
              "      border-left-color: var(--fill-color);\n",
              "      border-top-color: var(--fill-color);\n",
              "    }\n",
              "    30% {\n",
              "      border-color: transparent;\n",
              "      border-left-color: var(--fill-color);\n",
              "      border-top-color: var(--fill-color);\n",
              "      border-right-color: var(--fill-color);\n",
              "    }\n",
              "    40% {\n",
              "      border-color: transparent;\n",
              "      border-right-color: var(--fill-color);\n",
              "      border-top-color: var(--fill-color);\n",
              "    }\n",
              "    60% {\n",
              "      border-color: transparent;\n",
              "      border-right-color: var(--fill-color);\n",
              "    }\n",
              "    80% {\n",
              "      border-color: transparent;\n",
              "      border-right-color: var(--fill-color);\n",
              "      border-bottom-color: var(--fill-color);\n",
              "    }\n",
              "    90% {\n",
              "      border-color: transparent;\n",
              "      border-bottom-color: var(--fill-color);\n",
              "    }\n",
              "  }\n",
              "</style>\n",
              "\n",
              "      <script>\n",
              "        async function quickchart(key) {\n",
              "          const quickchartButtonEl =\n",
              "            document.querySelector('#' + key + ' button');\n",
              "          quickchartButtonEl.disabled = true;  // To prevent multiple clicks.\n",
              "          quickchartButtonEl.classList.add('colab-df-spinner');\n",
              "          try {\n",
              "            const charts = await google.colab.kernel.invokeFunction(\n",
              "                'suggestCharts', [key], {});\n",
              "          } catch (error) {\n",
              "            console.error('Error during call to suggestCharts:', error);\n",
              "          }\n",
              "          quickchartButtonEl.classList.remove('colab-df-spinner');\n",
              "          quickchartButtonEl.classList.add('colab-df-quickchart-complete');\n",
              "        }\n",
              "        (() => {\n",
              "          let quickchartButtonEl =\n",
              "            document.querySelector('#df-d610d212-e221-443a-a4b0-99cd24f795ca button');\n",
              "          quickchartButtonEl.style.display =\n",
              "            google.colab.kernel.accessAllowed ? 'block' : 'none';\n",
              "        })();\n",
              "      </script>\n",
              "    </div>\n",
              "\n",
              "    </div>\n",
              "  </div>\n"
            ],
            "application/vnd.google.colaboratory.intrinsic+json": {
              "type": "dataframe",
              "summary": "{\n  \"name\": \"adata\",\n  \"rows\": 10,\n  \"fields\": [\n    {\n      \"column\": \"gene_name\",\n      \"properties\": {\n        \"dtype\": \"string\",\n        \"num_unique_values\": 10,\n        \"samples\": [\n          \"SPX\",\n          \"ITGB3\",\n          \"HRAT92\"\n        ],\n        \"semantic_type\": \"\",\n        \"description\": \"\"\n      }\n    },\n    {\n      \"column\": \"mito\",\n      \"properties\": {\n        \"dtype\": \"boolean\",\n        \"num_unique_values\": 1,\n        \"samples\": [\n          false\n        ],\n        \"semantic_type\": \"\",\n        \"description\": \"\"\n      }\n    },\n    {\n      \"column\": \"n_cells_by_counts\",\n      \"properties\": {\n        \"dtype\": \"number\",\n        \"std\": 72,\n        \"min\": 8,\n        \"max\": 218,\n        \"num_unique_values\": 8,\n        \"samples\": [\n          12\n        ],\n        \"semantic_type\": \"\",\n        \"description\": \"\"\n      }\n    },\n    {\n      \"column\": \"mean_counts\",\n      \"properties\": {\n        \"dtype\": \"number\",\n        \"std\": 0.061691128632396425,\n        \"min\": 0.00187207488299532,\n        \"max\": 0.20514820592823713,\n        \"num_unique_values\": 10,\n        \"samples\": [\n          0.0042121684867394696\n        ],\n        \"semantic_type\": \"\",\n        \"description\": \"\"\n      }\n    },\n    {\n      \"column\": \"log1p_mean_counts\",\n      \"properties\": {\n        \"dtype\": \"number\",\n        \"std\": 0.05611408977432179,\n        \"min\": 0.0018703247347435178,\n        \"max\": 0.18660255185123048,\n        \"num_unique_values\": 10,\n        \"samples\": [\n          0.004203322137900137\n        ],\n        \"semantic_type\": \"\",\n        \"description\": \"\"\n      }\n    },\n    {\n      \"column\": \"pct_dropout_by_counts\",\n      \"properties\": {\n        \"dtype\": \"number\",\n        \"std\": 1.1339136734162265,\n        \"min\": 96.5990639625585,\n        \"max\": 99.87519500780031,\n        \"num_unique_values\": 8,\n        \"samples\": [\n          99.81279251170047\n        ],\n        \"semantic_type\": \"\",\n        \"description\": \"\"\n      }\n    },\n    {\n      \"column\": \"total_counts\",\n      \"properties\": {\n        \"dtype\": \"number\",\n        \"std\": 395.44013453366114,\n        \"min\": 12.0,\n        \"max\": 1315.0,\n        \"num_unique_values\": 10,\n        \"samples\": [\n          27.0\n        ],\n        \"semantic_type\": \"\",\n        \"description\": \"\"\n      }\n    },\n    {\n      \"column\": \"log1p_total_counts\",\n      \"properties\": {\n        \"dtype\": \"number\",\n        \"std\": 1.640871904135542,\n        \"min\": 2.5649493574615367,\n        \"max\": 7.182352111885263,\n        \"num_unique_values\": 10,\n        \"samples\": [\n          3.332204510175204\n        ],\n        \"semantic_type\": \"\",\n        \"description\": \"\"\n      }\n    },\n    {\n      \"column\": \"n_cells\",\n      \"properties\": {\n        \"dtype\": \"number\",\n        \"std\": 72,\n        \"min\": 8,\n        \"max\": 218,\n        \"num_unique_values\": 8,\n        \"samples\": [\n          12\n        ],\n        \"semantic_type\": \"\",\n        \"description\": \"\"\n      }\n    },\n    {\n      \"column\": \"highly_variable\",\n      \"properties\": {\n        \"dtype\": \"boolean\",\n        \"num_unique_values\": 1,\n        \"samples\": [\n          true\n        ],\n        \"semantic_type\": \"\",\n        \"description\": \"\"\n      }\n    },\n    {\n      \"column\": \"highly_variable_rank\",\n      \"properties\": {\n        \"dtype\": \"float32\",\n        \"num_unique_values\": 10,\n        \"samples\": [\n          8.0\n        ],\n        \"semantic_type\": \"\",\n        \"description\": \"\"\n      }\n    },\n    {\n      \"column\": \"means\",\n      \"properties\": {\n        \"dtype\": \"number\",\n        \"std\": 0.30772737783448983,\n        \"min\": 0.06346847724377194,\n        \"max\": 0.9244821143629851,\n        \"num_unique_values\": 10,\n        \"samples\": [\n          0.07997331789775824\n        ],\n        \"semantic_type\": \"\",\n        \"description\": \"\"\n      }\n    },\n    {\n      \"column\": \"variances\",\n      \"properties\": {\n        \"dtype\": \"number\",\n        \"std\": 18.74777324695392,\n        \"min\": 4.52304972033411,\n        \"max\": 57.869744137466384,\n        \"num_unique_values\": 10,\n        \"samples\": [\n          4.679187462206189\n        ],\n        \"semantic_type\": \"\",\n        \"description\": \"\"\n      }\n    },\n    {\n      \"column\": \"variances_norm\",\n      \"properties\": {\n        \"dtype\": \"number\",\n        \"std\": 0.2714014179967588,\n        \"min\": 3.6844550383680237,\n        \"max\": 4.4265347009131215,\n        \"num_unique_values\": 10,\n        \"samples\": [\n          3.714959853903242\n        ],\n        \"semantic_type\": \"\",\n        \"description\": \"\"\n      }\n    }\n  ]\n}"
            }
          },
          "metadata": {},
          "execution_count": 83
        }
      ]
    },
    {
      "cell_type": "markdown",
      "source": [
        "## STEP 4: Dimensionality reduction with PCA"
      ],
      "metadata": {
        "id": "Rjig-0E2HCYe"
      }
    },
    {
      "cell_type": "code",
      "source": [
        "adata # lets remind ourseleves about adata, the PCA will add a more information"
      ],
      "metadata": {
        "id": "H-QivrvHGauf",
        "outputId": "50e329c3-3216-4f5e-ee7f-9ec3f4f9c3ec",
        "colab": {
          "base_uri": "https://localhost:8080/"
        }
      },
      "execution_count": 84,
      "outputs": [
        {
          "output_type": "execute_result",
          "data": {
            "text/plain": [
              "AnnData object with n_obs × n_vars = 6410 × 17473\n",
              "    obs: 'LIBRARY_ID', 'patient_id', 'condition', 'n_genes_by_counts', 'log1p_n_genes_by_counts', 'total_counts', 'log1p_total_counts', 'pct_counts_in_top_50_genes', 'pct_counts_in_top_100_genes', 'pct_counts_in_top_200_genes', 'pct_counts_in_top_500_genes', 'total_counts_mito', 'log1p_total_counts_mito', 'pct_counts_mito', 'cells_filter', 'doublet_score', 'predicted_doublet'\n",
              "    var: 'gene_name', 'mito', 'n_cells_by_counts', 'mean_counts', 'log1p_mean_counts', 'pct_dropout_by_counts', 'total_counts', 'log1p_total_counts', 'n_cells', 'highly_variable', 'highly_variable_rank', 'means', 'variances', 'variances_norm'\n",
              "    uns: 'scrublet', 'log1p', 'hvg'\n",
              "    layers: 'log1p', 'counts'"
            ]
          },
          "metadata": {},
          "execution_count": 84
        }
      ]
    },
    {
      "cell_type": "code",
      "source": [
        "#####################################################################\n",
        "# Before PCA we typically scale features to unit variance (common step but not absolutely necessary)\n",
        "# Note that this changes adata.X\n",
        "sc.pp.scale(adata, zero_center=False) # we don't want to zero center."
      ],
      "metadata": {
        "id": "1slixUy7HIWj"
      },
      "execution_count": 85,
      "outputs": []
    },
    {
      "cell_type": "code",
      "source": [
        "#####################################################################\n",
        "# PCA: by default this function uses only the highly variable genes\n",
        "sc.tl.pca(adata, n_comps=50) # specify number of PCs (default is 50)"
      ],
      "metadata": {
        "id": "eI7lA4DcIpju",
        "outputId": "90a88be9-e776-4dc2-c77d-53fce35436c1",
        "colab": {
          "base_uri": "https://localhost:8080/"
        }
      },
      "execution_count": 86,
      "outputs": [
        {
          "output_type": "stream",
          "name": "stderr",
          "text": [
            "/usr/local/lib/python3.12/dist-packages/scanpy/preprocessing/_pca/__init__.py:245: FutureWarning: `__version__` is deprecated, use `importlib.metadata.version('anndata')` instead.\n",
            "  Version(ad.__version__) < Version(\"0.9\")\n"
          ]
        }
      ]
    },
    {
      "cell_type": "code",
      "source": [
        "# notice that the .obsm appeared that holds representations of the cells (embeddings)\n",
        "adata"
      ],
      "metadata": {
        "id": "BX8UcHqULTtA",
        "outputId": "fd8eb99b-9858-4650-9bd4-2d65791fbdeb",
        "colab": {
          "base_uri": "https://localhost:8080/"
        }
      },
      "execution_count": 87,
      "outputs": [
        {
          "output_type": "execute_result",
          "data": {
            "text/plain": [
              "AnnData object with n_obs × n_vars = 6410 × 17473\n",
              "    obs: 'LIBRARY_ID', 'patient_id', 'condition', 'n_genes_by_counts', 'log1p_n_genes_by_counts', 'total_counts', 'log1p_total_counts', 'pct_counts_in_top_50_genes', 'pct_counts_in_top_100_genes', 'pct_counts_in_top_200_genes', 'pct_counts_in_top_500_genes', 'total_counts_mito', 'log1p_total_counts_mito', 'pct_counts_mito', 'cells_filter', 'doublet_score', 'predicted_doublet'\n",
              "    var: 'gene_name', 'mito', 'n_cells_by_counts', 'mean_counts', 'log1p_mean_counts', 'pct_dropout_by_counts', 'total_counts', 'log1p_total_counts', 'n_cells', 'highly_variable', 'highly_variable_rank', 'means', 'variances', 'variances_norm', 'mean', 'std'\n",
              "    uns: 'scrublet', 'log1p', 'hvg', 'pca'\n",
              "    obsm: 'X_pca'\n",
              "    varm: 'PCs'\n",
              "    layers: 'log1p', 'counts'"
            ]
          },
          "metadata": {},
          "execution_count": 87
        }
      ]
    },
    {
      "cell_type": "code",
      "source": [
        "# X_pca is a matrix of reduced dimensions (n_comps=50 in our case).\n",
        "adata.obsm['X_pca'].shape"
      ],
      "metadata": {
        "id": "-tz4qVjmMXge",
        "outputId": "37c72cee-4859-45ec-f177-b752a2b27c03",
        "colab": {
          "base_uri": "https://localhost:8080/"
        }
      },
      "execution_count": 88,
      "outputs": [
        {
          "output_type": "execute_result",
          "data": {
            "text/plain": [
              "(6410, 50)"
            ]
          },
          "metadata": {},
          "execution_count": 88
        }
      ]
    },
    {
      "cell_type": "markdown",
      "source": [
        "### Visualize PCA"
      ],
      "metadata": {
        "id": "qFzAReyxJ2rA"
      }
    },
    {
      "cell_type": "code",
      "source": [
        "sc.pl.pca(adata,size=50)"
      ],
      "metadata": {
        "id": "GQPQMLQAJ4Mn",
        "outputId": "206e082f-8887-46be-d129-e18391728bca",
        "colab": {
          "base_uri": "https://localhost:8080/",
          "height": 426
        }
      },
      "execution_count": 89,
      "outputs": [
        {
          "output_type": "display_data",
          "data": {
            "text/plain": [
              "<Figure size 640x480 with 1 Axes>"
            ],
            "image/png": "[encoded data removed]"
          },
          "metadata": {}
        }
      ]
    },
    {
      "cell_type": "code",
      "source": [
        "sc.pl.pca(adata,color='patient_id',size=10)"
      ],
      "metadata": {
        "id": "tvEdcBsJJ62C",
        "outputId": "eb0ff1a7-7a04-41df-cda4-ad09a9feecf6",
        "colab": {
          "base_uri": "https://localhost:8080/",
          "height": 448
        }
      },
      "execution_count": 90,
      "outputs": [
        {
          "output_type": "display_data",
          "data": {
            "text/plain": [
              "<Figure size 640x480 with 1 Axes>"
            ],
            "image/png": "[encoded data removed]"
          },
          "metadata": {}
        }
      ]
    },
    {
      "cell_type": "code",
      "source": [
        "sc.pl.pca(adata,color=['CST3','CD79A'],size=50,layer='log1p')"
      ],
      "metadata": {
        "id": "r3k669WfKEtt",
        "outputId": "f381b4fd-7da4-482a-f41a-b9a0e0258eba",
        "colab": {
          "base_uri": "https://localhost:8080/",
          "height": 388
        }
      },
      "execution_count": 91,
      "outputs": [
        {
          "output_type": "display_data",
          "data": {
            "text/plain": [
              "<Figure size 1455.6x480 with 4 Axes>"
            ],
            "image/png": "[encoded data removed]"
          },
          "metadata": {}
        }
      ]
    },
    {
      "cell_type": "code",
      "source": [],
      "metadata": {
        "id": "16h7VWcjKM1i"
      },
      "execution_count": null,
      "outputs": []
    },
    {
      "cell_type": "markdown",
      "source": [
        "## STEP 5: Nearest-neighbor graph, Clustering and UMAP projection"
      ],
      "metadata": {
        "id": "7LKjIY2fK6am"
      }
    },
    {
      "cell_type": "code",
      "source": [
        "##############################################################\n",
        "# [🔺] construct a k nearest neighbors graph (knn)\n",
        "# 1. choose which representation to use\n",
        "# 2. choose n_neighbors. Also specify random_state for reproducibility.\n",
        "\n",
        "\n",
        "\n",
        "\n",
        "\n",
        "\n",
        "\n",
        "\n",
        "\n",
        "\n"
      ],
      "metadata": {
        "id": "K5xpFlDLK947"
      },
      "execution_count": null,
      "outputs": []
    },
    {
      "cell_type": "code",
      "source": [
        "adata"
      ],
      "metadata": {
        "id": "rfT1Fb21R-Fj"
      },
      "execution_count": null,
      "outputs": []
    },
    {
      "cell_type": "code",
      "source": [
        "##############################################################\n",
        "# community detection algorithm that is used to cluster cells\n",
        "# based on the neighbors graph we computed above.\n",
        "# --> the key_added parameter defines the name of the obs column that will be added\n",
        "#     this column will have the computed cluster label for each cell\n",
        "# --> the resolution parameter specifies how coarse or fine-grained clusters will be\n",
        "\n",
        "sc.tl.leiden(adata, resolution=1, key_added='leiden') # default parameters"
      ],
      "metadata": {
        "id": "_Hk9V9SHLNTr"
      },
      "execution_count": null,
      "outputs": []
    },
    {
      "cell_type": "code",
      "source": [
        "adata"
      ],
      "metadata": {
        "id": "C4bzyyiNR_Bh"
      },
      "execution_count": null,
      "outputs": []
    },
    {
      "cell_type": "code",
      "source": [
        "##############################################################\n",
        "# run umap on the neighbors graph we computed above\n",
        "sc.tl.umap(adata, min_dist=0.5, spread=1.0) # default values for the two main parameters"
      ],
      "metadata": {
        "id": "RSU4Xa5vLEbd"
      },
      "execution_count": null,
      "outputs": []
    },
    {
      "cell_type": "code",
      "source": [
        "adata"
      ],
      "metadata": {
        "id": "ERq2AMqOR_5v"
      },
      "execution_count": null,
      "outputs": []
    },
    {
      "cell_type": "markdown",
      "source": [
        "### Visualize UMAP"
      ],
      "metadata": {
        "id": "VCESmPepRV2J"
      }
    },
    {
      "cell_type": "code",
      "source": [
        "# the color parameter can be a list of genes. Gene expression is visualized from the specified layer\n",
        "sc.pl.umap(adata,color=['CST3','CD79A'],size=50,layer='log1p')"
      ],
      "metadata": {
        "id": "545vupIqPvv0"
      },
      "execution_count": null,
      "outputs": []
    },
    {
      "cell_type": "code",
      "source": [
        "# the color parameter can also be categorical (e.g., below we specify the column from obs that holds the cluster labels we want)\n",
        "sc.pl.umap(adata,color='leiden',size=50,legend_loc='on data')"
      ],
      "metadata": {
        "id": "WIYyZgd7RdBn"
      },
      "execution_count": null,
      "outputs": []
    },
    {
      "cell_type": "code",
      "source": [
        "##############################################################\n",
        "# [🔺] Cluster the cells at a lower resolution (e.g., resolution=0.5), and visualize again\n",
        "# Important: Give a different name to the labels so that we don't overwrite the 'leiden' column in obs\n",
        "# Hint: run the sc.tl.leiden function and then visualize with sc.pl.umap functions\n",
        "# Note: you don't need to re-run the umap agorithm\n",
        "\n",
        "\n",
        "\n",
        "\n",
        "\n",
        "\n",
        "\n",
        "\n",
        "\n",
        "\n"
      ],
      "metadata": {
        "id": "D_OZgQoeRq_K"
      },
      "execution_count": null,
      "outputs": []
    },
    {
      "cell_type": "code",
      "source": [
        "# [🔹] Experiment with different neighbors, leiden and umap parameters\n",
        "\n",
        "# lets work on a copy of the AnnData object for this\n",
        "bdata = adata.copy() # anything we do with bdata won't affect adata\n",
        "\n",
        "### pp.neighbors, tl.leiden, tl.umap and plot with pl.umap\n",
        "\n",
        "\n",
        "\n",
        "\n",
        "\n",
        "\n",
        "\n",
        "\n",
        "\n",
        "\n",
        "\n"
      ],
      "metadata": {
        "id": "fRUfQ2j2xJK7"
      },
      "execution_count": null,
      "outputs": []
    },
    {
      "cell_type": "markdown",
      "source": [
        "## Differential expression analysis"
      ],
      "metadata": {
        "id": "Xy5Ku3Y2TzvP"
      }
    },
    {
      "cell_type": "code",
      "source": [
        "##############################################################\n",
        "sc.tl.rank_genes_groups(adata,\n",
        "                        groupby='leiden_coarse',\n",
        "                        method='wilcoxon',\n",
        "                        layer='log1p')"
      ],
      "metadata": {
        "id": "49nblD5lTHHP"
      },
      "execution_count": null,
      "outputs": []
    },
    {
      "cell_type": "code",
      "source": [
        "sc.pl.rank_genes_groups_dotplot(adata,\n",
        "                                n_genes=6,\n",
        "                                values_to_plot='logfoldchanges',\n",
        "                                min_logfoldchange=3,\n",
        "                                vmax=5,\n",
        "                                vmin=-5,\n",
        "                                cmap='bwr',\n",
        "                                dot_max=0.7)\n"
      ],
      "metadata": {
        "id": "QhUHKC5YTSAW"
      },
      "execution_count": null,
      "outputs": []
    },
    {
      "cell_type": "code",
      "source": [
        "##############################################################\n",
        "# [🔺] annotate the clusters!!\n",
        "\n",
        "clusters_to_labels = {\n",
        "    '0':'?',\n",
        "    '1':'??',\n",
        "    '2':'???',\n",
        "    '3':'????'\n",
        "\n",
        "}\n",
        "\n",
        "# use the above dict to create a new column in obs with all cells labeled\n",
        "# this is done by first mapping the cluster column to the values of the dict\n",
        "# and assigning the result to a new column in obs\n",
        "adata.obs['???'] = adata.obs['???'].map(clusters_to_labels)\n",
        "\n",
        "\n",
        "## umap plot with the new labels\n",
        "sc.pl.umap(adata,color='???',size=50,legend_loc='on data',legend_fontoutline=2,legend_fontsize=50)"
      ],
      "metadata": {
        "id": "19n1Owe9TYGM"
      },
      "execution_count": null,
      "outputs": []
    },
    {
      "cell_type": "markdown",
      "source": [
        "## STEP 6: Save the processed dataset"
      ],
      "metadata": {
        "id": "4WOAPFMWXpp2"
      }
    },
    {
      "cell_type": "code",
      "source": [
        "adata.write_h5ad('blood_RNA_BMS225a_single_batch.h5ad') # this will be deleted when this session ends"
      ],
      "metadata": {
        "id": "SXqSZO5GXo_m"
      },
      "execution_count": null,
      "outputs": []
    },
    {
      "cell_type": "code",
      "source": [
        "# [🔺] The h5ad file is too big to download so let's mount google drive from the Files tab and save it there\n",
        "# adata.write_h5ad('/content/drive/MyDrive/your_project_folder/blood_RNA_BMS225a_single_batch.h5ad')"
      ],
      "metadata": {
        "id": "pT6D6a5EXo8x"
      },
      "execution_count": null,
      "outputs": []
    },
    {
      "cell_type": "markdown",
      "source": [
        "# Compact version of the analysis"
      ],
      "metadata": {
        "id": "gLw02tswCDZC"
      }
    },
    {
      "cell_type": "code",
      "source": [
        "### [🔺] re-run all the commands that are necessary to get us from the raw data to the processed dataset\n",
        "### For this compact version we can skip steps that print dataframes/ plot data / etc\n",
        "\n",
        "new_data = sc.read_h5ad('blood_RNA_raw_counts_SCG12.h5ad')\n",
        "\n",
        "\n",
        "#...\n",
        "\n",
        "\n",
        "#...\n",
        "\n",
        "\n",
        "#...\n",
        "\n",
        "\n",
        "#...\n",
        "\n",
        "\n",
        "#...\n",
        "\n",
        "\n",
        "#...\n",
        "\n",
        "\n",
        "#...\n",
        "\n",
        "\n",
        "#...\n",
        "\n",
        "### if everything is right we should be able to get the same umap as above\n",
        "sc.pl.umap(new_data,...)"
      ],
      "metadata": {
        "id": "6FD3Bec0VtqZ"
      },
      "execution_count": null,
      "outputs": []
    },
    {
      "cell_type": "markdown",
      "source": [
        "# DONE"
      ],
      "metadata": {
        "id": "ZLhAnqPc3bYW"
      }
    }
  ]
}